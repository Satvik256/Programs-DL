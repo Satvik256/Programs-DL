{
  "nbformat": 4,
  "nbformat_minor": 0,
  "metadata": {
    "colab": {
      "name": "movielens_collab_filtering.ipynb",
      "provenance": [],
      "collapsed_sections": [],
      "authorship_tag": "ABX9TyPQ9YCppvFaFcwhEZtTsBU0",
      "include_colab_link": true
    },
    "kernelspec": {
      "name": "python3",
      "display_name": "Python 3"
    },
    "accelerator": "GPU"
  },
  "cells": [
    {
      "cell_type": "markdown",
      "metadata": {
        "id": "view-in-github",
        "colab_type": "text"
      },
      "source": [
        "<a href=\"https://colab.research.google.com/github/Satvik256/TestRepo/blob/master/movielens_collab_filtering.ipynb\" target=\"_parent\"><img src=\"https://colab.research.google.com/assets/colab-badge.svg\" alt=\"Open In Colab\"/></a>"
      ]
    },
    {
      "cell_type": "code",
      "metadata": {
        "id": "-ofeHrMP7g4s",
        "colab_type": "code",
        "colab": {}
      },
      "source": [
        "from fastai.collab import *\n",
        "from fastai.tabular import *"
      ],
      "execution_count": 0,
      "outputs": []
    },
    {
      "cell_type": "code",
      "metadata": {
        "id": "BxYjdHoC8daf",
        "colab_type": "code",
        "outputId": "0b84695a-319f-472c-e7f8-fc169a404ef3",
        "colab": {
          "base_uri": "https://localhost:8080/",
          "height": 208
        }
      },
      "source": [
        "!wget http://files.grouplens.org/datasets/movielens/ml-100k.zip"
      ],
      "execution_count": 2,
      "outputs": [
        {
          "output_type": "stream",
          "text": [
            "--2020-06-01 08:02:14--  http://files.grouplens.org/datasets/movielens/ml-100k.zip\n",
            "Resolving files.grouplens.org (files.grouplens.org)... 128.101.65.152\n",
            "Connecting to files.grouplens.org (files.grouplens.org)|128.101.65.152|:80... connected.\n",
            "HTTP request sent, awaiting response... 200 OK\n",
            "Length: 4924029 (4.7M) [application/zip]\n",
            "Saving to: ‘ml-100k.zip’\n",
            "\n",
            "\rml-100k.zip           0%[                    ]       0  --.-KB/s               \rml-100k.zip           1%[                    ]  50.09K   239KB/s               \rml-100k.zip           4%[                    ] 219.78K   523KB/s               \rml-100k.zip          18%[==>                 ] 898.53K  1.39MB/s               \rml-100k.zip          74%[=============>      ]   3.49M  4.14MB/s               \rml-100k.zip         100%[===================>]   4.70M  5.53MB/s    in 0.8s    \n",
            "\n",
            "2020-06-01 08:02:16 (5.53 MB/s) - ‘ml-100k.zip’ saved [4924029/4924029]\n",
            "\n"
          ],
          "name": "stdout"
        }
      ]
    },
    {
      "cell_type": "code",
      "metadata": {
        "id": "v2riCnja8gez",
        "colab_type": "code",
        "outputId": "2a74e7e6-c1bc-419c-adeb-c3f9e25475ce",
        "colab": {
          "base_uri": "https://localhost:8080/",
          "height": 451
        }
      },
      "source": [
        "!unzip /content/ml-100k"
      ],
      "execution_count": 3,
      "outputs": [
        {
          "output_type": "stream",
          "text": [
            "Archive:  /content/ml-100k.zip\n",
            "   creating: ml-100k/\n",
            "  inflating: ml-100k/allbut.pl       \n",
            "  inflating: ml-100k/mku.sh          \n",
            "  inflating: ml-100k/README          \n",
            "  inflating: ml-100k/u.data          \n",
            "  inflating: ml-100k/u.genre         \n",
            "  inflating: ml-100k/u.info          \n",
            "  inflating: ml-100k/u.item          \n",
            "  inflating: ml-100k/u.occupation    \n",
            "  inflating: ml-100k/u.user          \n",
            "  inflating: ml-100k/u1.base         \n",
            "  inflating: ml-100k/u1.test         \n",
            "  inflating: ml-100k/u2.base         \n",
            "  inflating: ml-100k/u2.test         \n",
            "  inflating: ml-100k/u3.base         \n",
            "  inflating: ml-100k/u3.test         \n",
            "  inflating: ml-100k/u4.base         \n",
            "  inflating: ml-100k/u4.test         \n",
            "  inflating: ml-100k/u5.base         \n",
            "  inflating: ml-100k/u5.test         \n",
            "  inflating: ml-100k/ua.base         \n",
            "  inflating: ml-100k/ua.test         \n",
            "  inflating: ml-100k/ub.base         \n",
            "  inflating: ml-100k/ub.test         \n"
          ],
          "name": "stdout"
        }
      ]
    },
    {
      "cell_type": "code",
      "metadata": {
        "id": "KdeScpNy8tnw",
        "colab_type": "code",
        "colab": {}
      },
      "source": [
        "path=Path('/content/ml-100k')"
      ],
      "execution_count": 0,
      "outputs": []
    },
    {
      "cell_type": "code",
      "metadata": {
        "id": "yWfdtSZY9Dnr",
        "colab_type": "code",
        "colab": {}
      },
      "source": [
        "ratings = pd.read_csv(path/'u.data', delimiter='\\t', header=None,names=['user_id','movie_id','rating','timestamp'])                     "
      ],
      "execution_count": 0,
      "outputs": []
    },
    {
      "cell_type": "code",
      "metadata": {
        "id": "geVWWdyk9PRp",
        "colab_type": "code",
        "outputId": "0a1e884a-e6c7-471e-c15c-ae19da269278",
        "colab": {
          "base_uri": "https://localhost:8080/",
          "height": 202
        }
      },
      "source": [
        "ratings.head()"
      ],
      "execution_count": 6,
      "outputs": [
        {
          "output_type": "execute_result",
          "data": {
            "text/html": [
              "<div>\n",
              "<style scoped>\n",
              "    .dataframe tbody tr th:only-of-type {\n",
              "        vertical-align: middle;\n",
              "    }\n",
              "\n",
              "    .dataframe tbody tr th {\n",
              "        vertical-align: top;\n",
              "    }\n",
              "\n",
              "    .dataframe thead th {\n",
              "        text-align: right;\n",
              "    }\n",
              "</style>\n",
              "<table border=\"1\" class=\"dataframe\">\n",
              "  <thead>\n",
              "    <tr style=\"text-align: right;\">\n",
              "      <th></th>\n",
              "      <th>user_id</th>\n",
              "      <th>movie_id</th>\n",
              "      <th>rating</th>\n",
              "      <th>timestamp</th>\n",
              "    </tr>\n",
              "  </thead>\n",
              "  <tbody>\n",
              "    <tr>\n",
              "      <th>0</th>\n",
              "      <td>196</td>\n",
              "      <td>242</td>\n",
              "      <td>3</td>\n",
              "      <td>881250949</td>\n",
              "    </tr>\n",
              "    <tr>\n",
              "      <th>1</th>\n",
              "      <td>186</td>\n",
              "      <td>302</td>\n",
              "      <td>3</td>\n",
              "      <td>891717742</td>\n",
              "    </tr>\n",
              "    <tr>\n",
              "      <th>2</th>\n",
              "      <td>22</td>\n",
              "      <td>377</td>\n",
              "      <td>1</td>\n",
              "      <td>878887116</td>\n",
              "    </tr>\n",
              "    <tr>\n",
              "      <th>3</th>\n",
              "      <td>244</td>\n",
              "      <td>51</td>\n",
              "      <td>2</td>\n",
              "      <td>880606923</td>\n",
              "    </tr>\n",
              "    <tr>\n",
              "      <th>4</th>\n",
              "      <td>166</td>\n",
              "      <td>346</td>\n",
              "      <td>1</td>\n",
              "      <td>886397596</td>\n",
              "    </tr>\n",
              "  </tbody>\n",
              "</table>\n",
              "</div>"
            ],
            "text/plain": [
              "   user_id  movie_id  rating  timestamp\n",
              "0      196       242       3  881250949\n",
              "1      186       302       3  891717742\n",
              "2       22       377       1  878887116\n",
              "3      244        51       2  880606923\n",
              "4      166       346       1  886397596"
            ]
          },
          "metadata": {
            "tags": []
          },
          "execution_count": 6
        }
      ]
    },
    {
      "cell_type": "code",
      "metadata": {
        "id": "pLqZmUOL9QOp",
        "colab_type": "code",
        "outputId": "9a41a017-ff54-422c-d96d-fce6566d018d",
        "colab": {
          "base_uri": "https://localhost:8080/",
          "height": 375
        }
      },
      "source": [
        "movies = pd.read_csv(path/'u.item',  delimiter='|', encoding='latin-1', header=None,\n",
        "                    names=['movie_id', 'title', 'date', 'N', 'url',*[f'g{i}' for i in range(19)]])\n",
        "movies.head()"
      ],
      "execution_count": 7,
      "outputs": [
        {
          "output_type": "execute_result",
          "data": {
            "text/html": [
              "<div>\n",
              "<style scoped>\n",
              "    .dataframe tbody tr th:only-of-type {\n",
              "        vertical-align: middle;\n",
              "    }\n",
              "\n",
              "    .dataframe tbody tr th {\n",
              "        vertical-align: top;\n",
              "    }\n",
              "\n",
              "    .dataframe thead th {\n",
              "        text-align: right;\n",
              "    }\n",
              "</style>\n",
              "<table border=\"1\" class=\"dataframe\">\n",
              "  <thead>\n",
              "    <tr style=\"text-align: right;\">\n",
              "      <th></th>\n",
              "      <th>movie_id</th>\n",
              "      <th>title</th>\n",
              "      <th>date</th>\n",
              "      <th>N</th>\n",
              "      <th>url</th>\n",
              "      <th>g0</th>\n",
              "      <th>g1</th>\n",
              "      <th>g2</th>\n",
              "      <th>g3</th>\n",
              "      <th>g4</th>\n",
              "      <th>g5</th>\n",
              "      <th>g6</th>\n",
              "      <th>g7</th>\n",
              "      <th>g8</th>\n",
              "      <th>g9</th>\n",
              "      <th>g10</th>\n",
              "      <th>g11</th>\n",
              "      <th>g12</th>\n",
              "      <th>g13</th>\n",
              "      <th>g14</th>\n",
              "      <th>g15</th>\n",
              "      <th>g16</th>\n",
              "      <th>g17</th>\n",
              "      <th>g18</th>\n",
              "    </tr>\n",
              "  </thead>\n",
              "  <tbody>\n",
              "    <tr>\n",
              "      <th>0</th>\n",
              "      <td>1</td>\n",
              "      <td>Toy Story (1995)</td>\n",
              "      <td>01-Jan-1995</td>\n",
              "      <td>NaN</td>\n",
              "      <td>http://us.imdb.com/M/title-exact?Toy%20Story%2...</td>\n",
              "      <td>0</td>\n",
              "      <td>0</td>\n",
              "      <td>0</td>\n",
              "      <td>1</td>\n",
              "      <td>1</td>\n",
              "      <td>1</td>\n",
              "      <td>0</td>\n",
              "      <td>0</td>\n",
              "      <td>0</td>\n",
              "      <td>0</td>\n",
              "      <td>0</td>\n",
              "      <td>0</td>\n",
              "      <td>0</td>\n",
              "      <td>0</td>\n",
              "      <td>0</td>\n",
              "      <td>0</td>\n",
              "      <td>0</td>\n",
              "      <td>0</td>\n",
              "      <td>0</td>\n",
              "    </tr>\n",
              "    <tr>\n",
              "      <th>1</th>\n",
              "      <td>2</td>\n",
              "      <td>GoldenEye (1995)</td>\n",
              "      <td>01-Jan-1995</td>\n",
              "      <td>NaN</td>\n",
              "      <td>http://us.imdb.com/M/title-exact?GoldenEye%20(...</td>\n",
              "      <td>0</td>\n",
              "      <td>1</td>\n",
              "      <td>1</td>\n",
              "      <td>0</td>\n",
              "      <td>0</td>\n",
              "      <td>0</td>\n",
              "      <td>0</td>\n",
              "      <td>0</td>\n",
              "      <td>0</td>\n",
              "      <td>0</td>\n",
              "      <td>0</td>\n",
              "      <td>0</td>\n",
              "      <td>0</td>\n",
              "      <td>0</td>\n",
              "      <td>0</td>\n",
              "      <td>0</td>\n",
              "      <td>1</td>\n",
              "      <td>0</td>\n",
              "      <td>0</td>\n",
              "    </tr>\n",
              "    <tr>\n",
              "      <th>2</th>\n",
              "      <td>3</td>\n",
              "      <td>Four Rooms (1995)</td>\n",
              "      <td>01-Jan-1995</td>\n",
              "      <td>NaN</td>\n",
              "      <td>http://us.imdb.com/M/title-exact?Four%20Rooms%...</td>\n",
              "      <td>0</td>\n",
              "      <td>0</td>\n",
              "      <td>0</td>\n",
              "      <td>0</td>\n",
              "      <td>0</td>\n",
              "      <td>0</td>\n",
              "      <td>0</td>\n",
              "      <td>0</td>\n",
              "      <td>0</td>\n",
              "      <td>0</td>\n",
              "      <td>0</td>\n",
              "      <td>0</td>\n",
              "      <td>0</td>\n",
              "      <td>0</td>\n",
              "      <td>0</td>\n",
              "      <td>0</td>\n",
              "      <td>1</td>\n",
              "      <td>0</td>\n",
              "      <td>0</td>\n",
              "    </tr>\n",
              "    <tr>\n",
              "      <th>3</th>\n",
              "      <td>4</td>\n",
              "      <td>Get Shorty (1995)</td>\n",
              "      <td>01-Jan-1995</td>\n",
              "      <td>NaN</td>\n",
              "      <td>http://us.imdb.com/M/title-exact?Get%20Shorty%...</td>\n",
              "      <td>0</td>\n",
              "      <td>1</td>\n",
              "      <td>0</td>\n",
              "      <td>0</td>\n",
              "      <td>0</td>\n",
              "      <td>1</td>\n",
              "      <td>0</td>\n",
              "      <td>0</td>\n",
              "      <td>1</td>\n",
              "      <td>0</td>\n",
              "      <td>0</td>\n",
              "      <td>0</td>\n",
              "      <td>0</td>\n",
              "      <td>0</td>\n",
              "      <td>0</td>\n",
              "      <td>0</td>\n",
              "      <td>0</td>\n",
              "      <td>0</td>\n",
              "      <td>0</td>\n",
              "    </tr>\n",
              "    <tr>\n",
              "      <th>4</th>\n",
              "      <td>5</td>\n",
              "      <td>Copycat (1995)</td>\n",
              "      <td>01-Jan-1995</td>\n",
              "      <td>NaN</td>\n",
              "      <td>http://us.imdb.com/M/title-exact?Copycat%20(1995)</td>\n",
              "      <td>0</td>\n",
              "      <td>0</td>\n",
              "      <td>0</td>\n",
              "      <td>0</td>\n",
              "      <td>0</td>\n",
              "      <td>0</td>\n",
              "      <td>1</td>\n",
              "      <td>0</td>\n",
              "      <td>1</td>\n",
              "      <td>0</td>\n",
              "      <td>0</td>\n",
              "      <td>0</td>\n",
              "      <td>0</td>\n",
              "      <td>0</td>\n",
              "      <td>0</td>\n",
              "      <td>0</td>\n",
              "      <td>1</td>\n",
              "      <td>0</td>\n",
              "      <td>0</td>\n",
              "    </tr>\n",
              "  </tbody>\n",
              "</table>\n",
              "</div>"
            ],
            "text/plain": [
              "   movie_id              title         date   N  ... g15  g16  g17  g18\n",
              "0         1   Toy Story (1995)  01-Jan-1995 NaN  ...   0    0    0    0\n",
              "1         2   GoldenEye (1995)  01-Jan-1995 NaN  ...   0    1    0    0\n",
              "2         3  Four Rooms (1995)  01-Jan-1995 NaN  ...   0    1    0    0\n",
              "3         4  Get Shorty (1995)  01-Jan-1995 NaN  ...   0    0    0    0\n",
              "4         5     Copycat (1995)  01-Jan-1995 NaN  ...   0    1    0    0\n",
              "\n",
              "[5 rows x 24 columns]"
            ]
          },
          "metadata": {
            "tags": []
          },
          "execution_count": 7
        }
      ]
    },
    {
      "cell_type": "code",
      "metadata": {
        "id": "r1NvTkcX-0EW",
        "colab_type": "code",
        "outputId": "63d90bf7-5a80-40f7-b9a5-f08e8f9a08cc",
        "colab": {
          "base_uri": "https://localhost:8080/",
          "height": 1000
        }
      },
      "source": [
        "doc(pd.merge)"
      ],
      "execution_count": 8,
      "outputs": [
        {
          "output_type": "display_data",
          "data": {
            "text/html": [
              "<h4 id=\"merge\" class=\"doc_header\"><code>merge</code><a class=\"source_link\" data-toggle=\"collapse\" data-target=\"#merge-pytest\" style=\"float:right; padding-right:10px\">[test]</a></h4><blockquote><p><code>merge</code>(<strong><code>left</code></strong>, <strong><code>right</code></strong>, <strong><code>how</code></strong>:<code>str</code>=<strong><em><code>'inner'</code></em></strong>, <strong><code>on</code></strong>=<strong><em><code>None</code></em></strong>, <strong><code>left_on</code></strong>=<strong><em><code>None</code></em></strong>, <strong><code>right_on</code></strong>=<strong><em><code>None</code></em></strong>, <strong><code>left_index</code></strong>:<code>bool</code>=<strong><em><code>False</code></em></strong>, <strong><code>right_index</code></strong>:<code>bool</code>=<strong><em><code>False</code></em></strong>, <strong><code>sort</code></strong>:<code>bool</code>=<strong><em><code>False</code></em></strong>, <strong><code>suffixes</code></strong>=<strong><em><code>('_x', '_y')</code></em></strong>, <strong><code>copy</code></strong>:<code>bool</code>=<strong><em><code>True</code></em></strong>, <strong><code>indicator</code></strong>:<code>bool</code>=<strong><em><code>False</code></em></strong>, <strong><code>validate</code></strong>=<strong><em><code>None</code></em></strong>) → <code>DataFrame</code></p>\n",
              "</blockquote>\n",
              "<div class=\"collapse\" id=\"merge-pytest\"><div class=\"card card-body pytest_card\"><a type=\"button\" data-toggle=\"collapse\" data-target=\"#merge-pytest\" class=\"close\" aria-label=\"Close\"><span aria-hidden=\"true\">&times;</span></a><p>No tests found for <code>merge</code>. To contribute a test please refer to <a href=\"/dev/test.html\">this guide</a> and <a href=\"https://forums.fast.ai/t/improving-expanding-functional-tests/32929\">this discussion</a>.</p></div></div><p>Merge DataFrame or named Series objects with a database-style join. The join is done on columns or indexes. If joining columns on\n",
              "columns, the DataFrame indexes <em>will be ignored</em>. Otherwise if joining indexes\n",
              "on indexes or indexes on a column or columns, the index will be passed on.</p>\n",
              "<h2 id=\"Parameters\">Parameters<a class=\"anchor-link\" href=\"#Parameters\">&#182;</a></h2><p>left : DataFrame\n",
              "right : DataFrame or named Series\n",
              "    Object to merge with.\n",
              "how : {'left', 'right', 'outer', 'inner'}, default 'inner'\n",
              "    Type of merge to be performed.</p>\n",
              "\n",
              "<pre><code>* left: use only keys from left frame, similar to a SQL left outer join;\n",
              "  preserve key order.\n",
              "* right: use only keys from right frame, similar to a SQL right outer join;\n",
              "  preserve key order.\n",
              "* outer: use union of keys from both frames, similar to a SQL full outer\n",
              "  join; sort keys lexicographically.\n",
              "* inner: use intersection of keys from both frames, similar to a SQL inner\n",
              "  join; preserve the order of the left keys.\n",
              "</code></pre>\n",
              "<p>on : label or list\n",
              "    Column or index level names to join on. These must be found in both\n",
              "    DataFrames. If <code>on</code> is None and not merging on indexes then this defaults\n",
              "    to the intersection of the columns in both DataFrames.\n",
              "left_on : label or list, or array-like\n",
              "    Column or index level names to join on in the left DataFrame. Can also\n",
              "    be an array or list of arrays of the length of the left DataFrame.\n",
              "    These arrays are treated as if they are columns.\n",
              "right_on : label or list, or array-like\n",
              "    Column or index level names to join on in the right DataFrame. Can also\n",
              "    be an array or list of arrays of the length of the right DataFrame.\n",
              "    These arrays are treated as if they are columns.\n",
              "left_index : bool, default False\n",
              "    Use the index from the left DataFrame as the join key(s). If it is a\n",
              "    MultiIndex, the number of keys in the other DataFrame (either the index\n",
              "    or a number of columns) must match the number of levels.\n",
              "right_index : bool, default False\n",
              "    Use the index from the right DataFrame as the join key. Same caveats as\n",
              "    left_index.\n",
              "sort : bool, default False\n",
              "    Sort the join keys lexicographically in the result DataFrame. If False,\n",
              "    the order of the join keys depends on the join type (how keyword).\n",
              "suffixes : tuple of (str, str), default ('_x', '_y')\n",
              "    Suffix to apply to overlapping column names in the left and right\n",
              "    side, respectively. To raise an exception on overlapping columns use\n",
              "    (False, False).\n",
              "copy : bool, default True\n",
              "    If False, avoid copy if possible.\n",
              "indicator : bool or str, default False\n",
              "    If True, adds a column to output DataFrame called \"_merge\" with\n",
              "    information on the source of each row.\n",
              "    If string, column with information on source of each row will be added to\n",
              "    output DataFrame, and column will be named value of string.\n",
              "    Information column is Categorical-type and takes on a value of \"left_only\"\n",
              "    for observations whose merge key only appears in 'left' DataFrame,\n",
              "    \"right_only\" for observations whose merge key only appears in 'right'\n",
              "    DataFrame, and \"both\" if the observation's merge key is found in both.</p>\n",
              "<p>validate : str, optional\n",
              "    If specified, checks if merge is of specified type.</p>\n",
              "\n",
              "<pre><code>* \"one_to_one\" or \"1:1\": check if merge keys are unique in both\n",
              "  left and right datasets.\n",
              "* \"one_to_many\" or \"1:m\": check if merge keys are unique in left\n",
              "  dataset.\n",
              "* \"many_to_one\" or \"m:1\": check if merge keys are unique in right\n",
              "  dataset.\n",
              "* \"many_to_many\" or \"m:m\": allowed, but does not result in checks.\n",
              "\n",
              ".. versionadded:: 0.21.0\n",
              "\n",
              "</code></pre>\n",
              "<h2 id=\"Returns\">Returns<a class=\"anchor-link\" href=\"#Returns\">&#182;</a></h2><p>DataFrame\n",
              "    A DataFrame of the two merged objects.</p>\n",
              "<h2 id=\"See-Also\">See Also<a class=\"anchor-link\" href=\"#See-Also\">&#182;</a></h2><p>merge_ordered : Merge with optional filling/interpolation.\n",
              "merge_asof : Merge on nearest keys.\n",
              "DataFrame.join : Similar method using indices.</p>\n",
              "<h2 id=\"Notes\">Notes<a class=\"anchor-link\" href=\"#Notes\">&#182;</a></h2><p>Support for specifying index levels as the <code>on</code>, <code>left_on</code>, and\n",
              "<code>right_on</code> parameters was added in version 0.23.0\n",
              "Support for merging named Series objects was added in version 0.24.0</p>\n",
              "<h2 id=\"Examples\">Examples<a class=\"anchor-link\" href=\"#Examples\">&#182;</a></h2><blockquote><blockquote><blockquote><p>df1 = pd.DataFrame({'lkey': ['foo', 'bar', 'baz', 'foo'],\n",
              "...                     'value': [1, 2, 3, 5]})\n",
              "df2 = pd.DataFrame({'rkey': ['foo', 'bar', 'baz', 'foo'],\n",
              "...                     'value': [5, 6, 7, 8]})\n",
              "df1\n",
              "    lkey value\n",
              "0   foo      1\n",
              "1   bar      2\n",
              "2   baz      3\n",
              "3   foo      5\n",
              "df2\n",
              "    rkey value\n",
              "0   foo      5\n",
              "1   bar      6\n",
              "2   baz      7\n",
              "3   foo      8</p>\n",
              "</blockquote>\n",
              "</blockquote>\n",
              "</blockquote>\n",
              "<p>Merge df1 and df2 on the lkey and rkey columns. The value columns have\n",
              "the default suffixes, _x and _y, appended.</p>\n",
              "<blockquote><blockquote><blockquote><p>df1.merge(df2, left_on='lkey', right_on='rkey')\n",
              "  lkey  value_x rkey  value_y\n",
              "0  foo        1  foo        5\n",
              "1  foo        1  foo        8\n",
              "2  foo        5  foo        5\n",
              "3  foo        5  foo        8\n",
              "4  bar        2  bar        6\n",
              "5  baz        3  baz        7</p>\n",
              "</blockquote>\n",
              "</blockquote>\n",
              "</blockquote>\n",
              "<p>Merge DataFrames df1 and df2 with specified left and right suffixes\n",
              "appended to any overlapping columns.</p>\n",
              "<blockquote><blockquote><blockquote><p>df1.merge(df2, left_on='lkey', right_on='rkey',\n",
              "...           suffixes=('_left', '_right'))\n",
              "  lkey  value_left rkey  value_right\n",
              "0  foo           1  foo            5\n",
              "1  foo           1  foo            8\n",
              "2  foo           5  foo            5\n",
              "3  foo           5  foo            8\n",
              "4  bar           2  bar            6\n",
              "5  baz           3  baz            7</p>\n",
              "</blockquote>\n",
              "</blockquote>\n",
              "</blockquote>\n",
              "<p>Merge DataFrames df1 and df2, but raise an exception if the DataFrames have\n",
              "any overlapping columns.</p>\n",
              "<blockquote><blockquote><blockquote><p>df1.merge(df2, left_on='lkey', right_on='rkey', suffixes=(False, False))\n",
              "Traceback (most recent call last):\n",
              "...\n",
              "ValueError: columns overlap but no suffix specified:\n",
              "    Index(['value'], dtype='object')</p>\n",
              "</blockquote>\n",
              "</blockquote>\n",
              "</blockquote>\n"
            ],
            "text/plain": [
              "<IPython.core.display.HTML object>"
            ]
          },
          "metadata": {
            "tags": []
          }
        }
      ]
    },
    {
      "cell_type": "code",
      "metadata": {
        "id": "0yQe8eb-92dr",
        "colab_type": "code",
        "colab": {}
      },
      "source": [
        "rating_movie=pd.merge(ratings,movies,how='inner',on=['movie_id'])"
      ],
      "execution_count": 0,
      "outputs": []
    },
    {
      "cell_type": "code",
      "metadata": {
        "id": "vEG6R1hEDrTF",
        "colab_type": "code",
        "colab": {}
      },
      "source": [
        "rating_movie=rating_movie[['user_id','movie_id','rating','timestamp','title']]"
      ],
      "execution_count": 0,
      "outputs": []
    },
    {
      "cell_type": "code",
      "metadata": {
        "id": "P2p6ZfywF8Lu",
        "colab_type": "code",
        "outputId": "c8996eee-e6b5-4988-badb-22784704de62",
        "colab": {
          "base_uri": "https://localhost:8080/",
          "height": 202
        }
      },
      "source": [
        "rating_movie.head()"
      ],
      "execution_count": 11,
      "outputs": [
        {
          "output_type": "execute_result",
          "data": {
            "text/html": [
              "<div>\n",
              "<style scoped>\n",
              "    .dataframe tbody tr th:only-of-type {\n",
              "        vertical-align: middle;\n",
              "    }\n",
              "\n",
              "    .dataframe tbody tr th {\n",
              "        vertical-align: top;\n",
              "    }\n",
              "\n",
              "    .dataframe thead th {\n",
              "        text-align: right;\n",
              "    }\n",
              "</style>\n",
              "<table border=\"1\" class=\"dataframe\">\n",
              "  <thead>\n",
              "    <tr style=\"text-align: right;\">\n",
              "      <th></th>\n",
              "      <th>user_id</th>\n",
              "      <th>movie_id</th>\n",
              "      <th>rating</th>\n",
              "      <th>timestamp</th>\n",
              "      <th>title</th>\n",
              "    </tr>\n",
              "  </thead>\n",
              "  <tbody>\n",
              "    <tr>\n",
              "      <th>0</th>\n",
              "      <td>196</td>\n",
              "      <td>242</td>\n",
              "      <td>3</td>\n",
              "      <td>881250949</td>\n",
              "      <td>Kolya (1996)</td>\n",
              "    </tr>\n",
              "    <tr>\n",
              "      <th>1</th>\n",
              "      <td>63</td>\n",
              "      <td>242</td>\n",
              "      <td>3</td>\n",
              "      <td>875747190</td>\n",
              "      <td>Kolya (1996)</td>\n",
              "    </tr>\n",
              "    <tr>\n",
              "      <th>2</th>\n",
              "      <td>226</td>\n",
              "      <td>242</td>\n",
              "      <td>5</td>\n",
              "      <td>883888671</td>\n",
              "      <td>Kolya (1996)</td>\n",
              "    </tr>\n",
              "    <tr>\n",
              "      <th>3</th>\n",
              "      <td>154</td>\n",
              "      <td>242</td>\n",
              "      <td>3</td>\n",
              "      <td>879138235</td>\n",
              "      <td>Kolya (1996)</td>\n",
              "    </tr>\n",
              "    <tr>\n",
              "      <th>4</th>\n",
              "      <td>306</td>\n",
              "      <td>242</td>\n",
              "      <td>5</td>\n",
              "      <td>876503793</td>\n",
              "      <td>Kolya (1996)</td>\n",
              "    </tr>\n",
              "  </tbody>\n",
              "</table>\n",
              "</div>"
            ],
            "text/plain": [
              "   user_id  movie_id  rating  timestamp         title\n",
              "0      196       242       3  881250949  Kolya (1996)\n",
              "1       63       242       3  875747190  Kolya (1996)\n",
              "2      226       242       5  883888671  Kolya (1996)\n",
              "3      154       242       3  879138235  Kolya (1996)\n",
              "4      306       242       5  876503793  Kolya (1996)"
            ]
          },
          "metadata": {
            "tags": []
          },
          "execution_count": 11
        }
      ]
    },
    {
      "cell_type": "code",
      "metadata": {
        "id": "Mk2KKcVssZFi",
        "colab_type": "code",
        "colab": {}
      },
      "source": [
        "data=CollabDataBunch.from_df(rating_movie,seed=42,valid_pct=0.1,item_name='title')"
      ],
      "execution_count": 0,
      "outputs": []
    },
    {
      "cell_type": "code",
      "metadata": {
        "id": "KHVMnHD9sY-N",
        "colab_type": "code",
        "outputId": "fd1fda97-7f9f-44aa-b50d-c9697eea0d23",
        "colab": {
          "base_uri": "https://localhost:8080/",
          "height": 202
        }
      },
      "source": [
        "data.show_batch()"
      ],
      "execution_count": 13,
      "outputs": [
        {
          "output_type": "display_data",
          "data": {
            "text/html": [
              "<table border=\"1\" class=\"dataframe\">\n",
              "  <thead>\n",
              "    <tr style=\"text-align: right;\">\n",
              "      <th>user_id</th>\n",
              "      <th>title</th>\n",
              "      <th>target</th>\n",
              "    </tr>\n",
              "  </thead>\n",
              "  <tbody>\n",
              "    <tr>\n",
              "      <td>782</td>\n",
              "      <td>That Darn Cat! (1997)</td>\n",
              "      <td>3.0</td>\n",
              "    </tr>\n",
              "    <tr>\n",
              "      <td>404</td>\n",
              "      <td>Jackal, The (1997)</td>\n",
              "      <td>2.0</td>\n",
              "    </tr>\n",
              "    <tr>\n",
              "      <td>435</td>\n",
              "      <td>To Kill a Mockingbird (1962)</td>\n",
              "      <td>3.0</td>\n",
              "    </tr>\n",
              "    <tr>\n",
              "      <td>294</td>\n",
              "      <td>Boot, Das (1981)</td>\n",
              "      <td>5.0</td>\n",
              "    </tr>\n",
              "    <tr>\n",
              "      <td>303</td>\n",
              "      <td>Tombstone (1993)</td>\n",
              "      <td>4.0</td>\n",
              "    </tr>\n",
              "  </tbody>\n",
              "</table>"
            ],
            "text/plain": [
              "<IPython.core.display.HTML object>"
            ]
          },
          "metadata": {
            "tags": []
          }
        }
      ]
    },
    {
      "cell_type": "code",
      "metadata": {
        "id": "2AMdhTE8sY06",
        "colab_type": "code",
        "colab": {}
      },
      "source": [
        "lrn=collab_learner(data,y_range=[0.,5.5],wd=1e-1,n_factors=35)"
      ],
      "execution_count": 0,
      "outputs": []
    },
    {
      "cell_type": "code",
      "metadata": {
        "id": "igVTocRuGOUM",
        "colab_type": "code",
        "outputId": "b8d992bd-6bea-4192-ab37-0ac328e54f87",
        "colab": {
          "base_uri": "https://localhost:8080/",
          "height": 112
        }
      },
      "source": [
        "lrn.lr_find()"
      ],
      "execution_count": 42,
      "outputs": [
        {
          "output_type": "display_data",
          "data": {
            "text/html": [
              "\n",
              "    <div>\n",
              "        <style>\n",
              "            /* Turns off some styling */\n",
              "            progress {\n",
              "                /* gets rid of default border in Firefox and Opera. */\n",
              "                border: none;\n",
              "                /* Needs to be in here for Safari polyfill so background images work as expected. */\n",
              "                background-size: auto;\n",
              "            }\n",
              "            .progress-bar-interrupted, .progress-bar-interrupted::-webkit-progress-bar {\n",
              "                background: #F44336;\n",
              "            }\n",
              "        </style>\n",
              "      <progress value='0' class='' max='1' style='width:300px; height:20px; vertical-align: middle;'></progress>\n",
              "      0.00% [0/1 00:00<00:00]\n",
              "    </div>\n",
              "    \n",
              "<table border=\"1\" class=\"dataframe\">\n",
              "  <thead>\n",
              "    <tr style=\"text-align: left;\">\n",
              "      <th>epoch</th>\n",
              "      <th>train_loss</th>\n",
              "      <th>valid_loss</th>\n",
              "      <th>time</th>\n",
              "    </tr>\n",
              "  </thead>\n",
              "  <tbody>\n",
              "  </tbody>\n",
              "</table><p>\n",
              "\n",
              "    <div>\n",
              "        <style>\n",
              "            /* Turns off some styling */\n",
              "            progress {\n",
              "                /* gets rid of default border in Firefox and Opera. */\n",
              "                border: none;\n",
              "                /* Needs to be in here for Safari polyfill so background images work as expected. */\n",
              "                background-size: auto;\n",
              "            }\n",
              "            .progress-bar-interrupted, .progress-bar-interrupted::-webkit-progress-bar {\n",
              "                background: #F44336;\n",
              "            }\n",
              "        </style>\n",
              "      <progress value='95' class='' max='1406' style='width:300px; height:20px; vertical-align: middle;'></progress>\n",
              "      6.76% [95/1406 00:00<00:09 2.7264]\n",
              "    </div>\n",
              "    "
            ],
            "text/plain": [
              "<IPython.core.display.HTML object>"
            ]
          },
          "metadata": {
            "tags": []
          }
        },
        {
          "output_type": "stream",
          "text": [
            "LR Finder is complete, type {learner_name}.recorder.plot() to see the graph.\n"
          ],
          "name": "stdout"
        }
      ]
    },
    {
      "cell_type": "code",
      "metadata": {
        "id": "ISTEOYP7w0d9",
        "colab_type": "code",
        "outputId": "6805f17a-df6f-41a4-b085-23aa61fde83c",
        "colab": {
          "base_uri": "https://localhost:8080/",
          "height": 279
        }
      },
      "source": [
        "lrn.recorder.plot(skip_end=15)"
      ],
      "execution_count": 43,
      "outputs": [
        {
          "output_type": "display_data",
          "data": {
            "image/png": "[encoded data removed]",
            "text/plain": [
              "<Figure size 432x288 with 1 Axes>"
            ]
          },
          "metadata": {
            "tags": [],
            "needs_background": "light"
          }
        }
      ]
    },
    {
      "cell_type": "code",
      "metadata": {
        "id": "Ms9F_matw3WF",
        "colab_type": "code",
        "outputId": "3970564f-a153-42f8-e6b3-5a294d7a5d34",
        "colab": {
          "base_uri": "https://localhost:8080/",
          "height": 815
        }
      },
      "source": [
        "lrn.fit_one_cycle(25,1e-3)"
      ],
      "execution_count": 44,
      "outputs": [
        {
          "output_type": "display_data",
          "data": {
            "text/html": [
              "<table border=\"1\" class=\"dataframe\">\n",
              "  <thead>\n",
              "    <tr style=\"text-align: left;\">\n",
              "      <th>epoch</th>\n",
              "      <th>train_loss</th>\n",
              "      <th>valid_loss</th>\n",
              "      <th>time</th>\n",
              "    </tr>\n",
              "  </thead>\n",
              "  <tbody>\n",
              "    <tr>\n",
              "      <td>0</td>\n",
              "      <td>1.790282</td>\n",
              "      <td>1.809514</td>\n",
              "      <td>00:09</td>\n",
              "    </tr>\n",
              "    <tr>\n",
              "      <td>1</td>\n",
              "      <td>1.578709</td>\n",
              "      <td>1.628952</td>\n",
              "      <td>00:09</td>\n",
              "    </tr>\n",
              "    <tr>\n",
              "      <td>2</td>\n",
              "      <td>1.178581</td>\n",
              "      <td>1.163961</td>\n",
              "      <td>00:09</td>\n",
              "    </tr>\n",
              "    <tr>\n",
              "      <td>3</td>\n",
              "      <td>0.923864</td>\n",
              "      <td>0.955661</td>\n",
              "      <td>00:09</td>\n",
              "    </tr>\n",
              "    <tr>\n",
              "      <td>4</td>\n",
              "      <td>0.890077</td>\n",
              "      <td>0.908680</td>\n",
              "      <td>00:09</td>\n",
              "    </tr>\n",
              "    <tr>\n",
              "      <td>5</td>\n",
              "      <td>0.835884</td>\n",
              "      <td>0.885113</td>\n",
              "      <td>00:09</td>\n",
              "    </tr>\n",
              "    <tr>\n",
              "      <td>6</td>\n",
              "      <td>0.823705</td>\n",
              "      <td>0.861181</td>\n",
              "      <td>00:09</td>\n",
              "    </tr>\n",
              "    <tr>\n",
              "      <td>7</td>\n",
              "      <td>0.789630</td>\n",
              "      <td>0.850749</td>\n",
              "      <td>00:09</td>\n",
              "    </tr>\n",
              "    <tr>\n",
              "      <td>8</td>\n",
              "      <td>0.760022</td>\n",
              "      <td>0.842536</td>\n",
              "      <td>00:09</td>\n",
              "    </tr>\n",
              "    <tr>\n",
              "      <td>9</td>\n",
              "      <td>0.748813</td>\n",
              "      <td>0.834402</td>\n",
              "      <td>00:09</td>\n",
              "    </tr>\n",
              "    <tr>\n",
              "      <td>10</td>\n",
              "      <td>0.710089</td>\n",
              "      <td>0.830098</td>\n",
              "      <td>00:09</td>\n",
              "    </tr>\n",
              "    <tr>\n",
              "      <td>11</td>\n",
              "      <td>0.689190</td>\n",
              "      <td>0.822474</td>\n",
              "      <td>00:09</td>\n",
              "    </tr>\n",
              "    <tr>\n",
              "      <td>12</td>\n",
              "      <td>0.672462</td>\n",
              "      <td>0.819410</td>\n",
              "      <td>00:09</td>\n",
              "    </tr>\n",
              "    <tr>\n",
              "      <td>13</td>\n",
              "      <td>0.639050</td>\n",
              "      <td>0.818389</td>\n",
              "      <td>00:09</td>\n",
              "    </tr>\n",
              "    <tr>\n",
              "      <td>14</td>\n",
              "      <td>0.627553</td>\n",
              "      <td>0.816799</td>\n",
              "      <td>00:09</td>\n",
              "    </tr>\n",
              "    <tr>\n",
              "      <td>15</td>\n",
              "      <td>0.604602</td>\n",
              "      <td>0.816637</td>\n",
              "      <td>00:09</td>\n",
              "    </tr>\n",
              "    <tr>\n",
              "      <td>16</td>\n",
              "      <td>0.589271</td>\n",
              "      <td>0.816037</td>\n",
              "      <td>00:09</td>\n",
              "    </tr>\n",
              "    <tr>\n",
              "      <td>17</td>\n",
              "      <td>0.583184</td>\n",
              "      <td>0.815956</td>\n",
              "      <td>00:09</td>\n",
              "    </tr>\n",
              "    <tr>\n",
              "      <td>18</td>\n",
              "      <td>0.551499</td>\n",
              "      <td>0.816108</td>\n",
              "      <td>00:09</td>\n",
              "    </tr>\n",
              "    <tr>\n",
              "      <td>19</td>\n",
              "      <td>0.510527</td>\n",
              "      <td>0.816168</td>\n",
              "      <td>00:09</td>\n",
              "    </tr>\n",
              "    <tr>\n",
              "      <td>20</td>\n",
              "      <td>0.526363</td>\n",
              "      <td>0.816300</td>\n",
              "      <td>00:09</td>\n",
              "    </tr>\n",
              "    <tr>\n",
              "      <td>21</td>\n",
              "      <td>0.499350</td>\n",
              "      <td>0.816337</td>\n",
              "      <td>00:09</td>\n",
              "    </tr>\n",
              "    <tr>\n",
              "      <td>22</td>\n",
              "      <td>0.528549</td>\n",
              "      <td>0.816383</td>\n",
              "      <td>00:09</td>\n",
              "    </tr>\n",
              "    <tr>\n",
              "      <td>23</td>\n",
              "      <td>0.526888</td>\n",
              "      <td>0.816391</td>\n",
              "      <td>00:09</td>\n",
              "    </tr>\n",
              "    <tr>\n",
              "      <td>24</td>\n",
              "      <td>0.524361</td>\n",
              "      <td>0.816397</td>\n",
              "      <td>00:09</td>\n",
              "    </tr>\n",
              "  </tbody>\n",
              "</table>"
            ],
            "text/plain": [
              "<IPython.core.display.HTML object>"
            ]
          },
          "metadata": {
            "tags": []
          }
        }
      ]
    },
    {
      "cell_type": "code",
      "metadata": {
        "id": "l_XhI_2jxJ9V",
        "colab_type": "code",
        "colab": {}
      },
      "source": [
        "lrn.save('model-1')"
      ],
      "execution_count": 0,
      "outputs": []
    },
    {
      "cell_type": "code",
      "metadata": {
        "id": "py80s19T04pW",
        "colab_type": "code",
        "outputId": "c9ad18c2-b3c4-43fc-91b5-436c35c059a7",
        "colab": {
          "base_uri": "https://localhost:8080/",
          "height": 505
        }
      },
      "source": [
        "lrn.load('model-1')"
      ],
      "execution_count": 46,
      "outputs": [
        {
          "output_type": "execute_result",
          "data": {
            "text/plain": [
              "CollabLearner(data=TabularDataBunch;\n",
              "\n",
              "Train: LabelList (90000 items)\n",
              "x: CollabList\n",
              "user_id 196; title Kolya (1996); ,user_id 63; title Kolya (1996); ,user_id 226; title Kolya (1996); ,user_id 154; title Kolya (1996); ,user_id 306; title Kolya (1996); \n",
              "y: FloatList\n",
              "3.0,3.0,5.0,3.0,5.0\n",
              "Path: .;\n",
              "\n",
              "Valid: LabelList (10000 items)\n",
              "x: CollabList\n",
              "user_id 498; title Casino (1995); ,user_id 642; title Pocahontas (1995); ,user_id 58; title 2001: A Space Odyssey (1968); ,user_id 495; title Cat People (1982); ,user_id 618; title Philadelphia (1993); \n",
              "y: FloatList\n",
              "3.0,5.0,4.0,3.0,3.0\n",
              "Path: .;\n",
              "\n",
              "Test: None, model=EmbeddingDotBias(\n",
              "  (u_weight): Embedding(944, 35)\n",
              "  (i_weight): Embedding(1654, 35)\n",
              "  (u_bias): Embedding(944, 1)\n",
              "  (i_bias): Embedding(1654, 1)\n",
              "), opt_func=functools.partial(<class 'torch.optim.adam.Adam'>, betas=(0.9, 0.99)), loss_func=FlattenedLoss of MSELoss(), metrics=[], true_wd=True, bn_wd=True, wd=0.1, train_bn=True, path=PosixPath('.'), model_dir='models', callback_fns=[functools.partial(<class 'fastai.basic_train.Recorder'>, add_time=True, silent=False)], callbacks=[], layer_groups=[Sequential(\n",
              "  (0): Embedding(944, 35)\n",
              "  (1): Embedding(1654, 35)\n",
              "  (2): Embedding(944, 1)\n",
              "  (3): Embedding(1654, 1)\n",
              ")], add_time=True, silent=False)"
            ]
          },
          "metadata": {
            "tags": []
          },
          "execution_count": 46
        }
      ]
    },
    {
      "cell_type": "code",
      "metadata": {
        "id": "VFtKm0mvj_XD",
        "colab_type": "code",
        "colab": {}
      },
      "source": [
        "g=rating_movie.groupby('title')['rating'].count()"
      ],
      "execution_count": 0,
      "outputs": []
    },
    {
      "cell_type": "code",
      "metadata": {
        "id": "dNrRcavNCmaS",
        "colab_type": "code",
        "colab": {}
      },
      "source": [
        "top_movies=g.sort_values(ascending=False).index.values[:1000]"
      ],
      "execution_count": 0,
      "outputs": []
    },
    {
      "cell_type": "code",
      "metadata": {
        "id": "Yd1_vABCCoCE",
        "colab_type": "code",
        "colab": {}
      },
      "source": [
        "movie_bias=lrn.bias(top_movies,is_item=True)"
      ],
      "execution_count": 0,
      "outputs": []
    },
    {
      "cell_type": "code",
      "metadata": {
        "id": "X3f1AK2mDJBk",
        "colab_type": "code",
        "colab": {}
      },
      "source": [
        "mean_ratings=rating_movie.groupby('title').mean()"
      ],
      "execution_count": 0,
      "outputs": []
    },
    {
      "cell_type": "code",
      "metadata": {
        "id": "a4F2j-hEDI-N",
        "colab_type": "code",
        "colab": {}
      },
      "source": [
        "movie_ratings = [(b, i, mean_ratings.loc[i].rating) for i,b in zip(top_movies,movie_bias)]"
      ],
      "execution_count": 0,
      "outputs": []
    },
    {
      "cell_type": "code",
      "metadata": {
        "id": "fkvLlhejGYUr",
        "colab_type": "code",
        "colab": {
          "base_uri": "https://localhost:8080/",
          "height": 277
        },
        "outputId": "a79bb494-00af-4464-ed46-d8e502d16f59"
      },
      "source": [
        "sorted(movie_ratings,key=lambda x:x[0],reverse=True)[:15]"
      ],
      "execution_count": 52,
      "outputs": [
        {
          "output_type": "execute_result",
          "data": {
            "text/plain": [
              "[(tensor(0.4806), \"Schindler's List (1993)\", 4.466442953020135),\n",
              " (tensor(0.4495), 'Shawshank Redemption, The (1994)', 4.445229681978798),\n",
              " (tensor(0.4487), 'Titanic (1997)', 4.2457142857142856),\n",
              " (tensor(0.4183), 'Silence of the Lambs, The (1991)', 4.28974358974359),\n",
              " (tensor(0.4156), 'L.A. Confidential (1997)', 4.161616161616162),\n",
              " (tensor(0.4125), 'Rear Window (1954)', 4.3875598086124405),\n",
              " (tensor(0.3961), 'As Good As It Gets (1997)', 4.196428571428571),\n",
              " (tensor(0.3914), 'Apt Pupil (1998)', 4.1),\n",
              " (tensor(0.3802), 'To Kill a Mockingbird (1962)', 4.292237442922374),\n",
              " (tensor(0.3718), 'Boot, Das (1981)', 4.203980099502488),\n",
              " (tensor(0.3701), 'Casablanca (1942)', 4.45679012345679),\n",
              " (tensor(0.3694), 'Good Will Hunting (1997)', 4.262626262626263),\n",
              " (tensor(0.3651), 'Usual Suspects, The (1995)', 4.385767790262173),\n",
              " (tensor(0.3628), 'Close Shave, A (1995)', 4.491071428571429),\n",
              " (tensor(0.3604), 'Vertigo (1958)', 4.251396648044692)]"
            ]
          },
          "metadata": {
            "tags": []
          },
          "execution_count": 52
        }
      ]
    },
    {
      "cell_type": "code",
      "metadata": {
        "id": "CzTrBEBtGYSX",
        "colab_type": "code",
        "colab": {
          "base_uri": "https://localhost:8080/",
          "height": 347
        },
        "outputId": "365b0e3c-8e36-414e-9447-dfdb8fbc4fd8"
      },
      "source": [
        "sorted(movie_ratings,key=lambda x:x[0])[:15]"
      ],
      "execution_count": 53,
      "outputs": [
        {
          "output_type": "execute_result",
          "data": {
            "text/plain": [
              "[(tensor(-0.3375),\n",
              "  'Children of the Corn: The Gathering (1996)',\n",
              "  1.3157894736842106),\n",
              " (tensor(-0.2676),\n",
              "  'Lawnmower Man 2: Beyond Cyberspace (1996)',\n",
              "  1.7142857142857142),\n",
              " (tensor(-0.2505), 'Mortal Kombat: Annihilation (1997)', 1.9534883720930232),\n",
              " (tensor(-0.2326), 'Cable Guy, The (1996)', 2.339622641509434),\n",
              " (tensor(-0.2249), 'Striptease (1996)', 2.2388059701492535),\n",
              " (tensor(-0.2031), 'Barb Wire (1996)', 1.9333333333333333),\n",
              " (tensor(-0.2030), 'Island of Dr. Moreau, The (1996)', 2.1578947368421053),\n",
              " (tensor(-0.2025), 'Crow: City of Angels, The (1996)', 1.9487179487179487),\n",
              " (tensor(-0.1858), 'Bio-Dome (1996)', 1.903225806451613),\n",
              " (tensor(-0.1765), 'Grease 2 (1982)', 2.0),\n",
              " (tensor(-0.1743), 'Free Willy 3: The Rescue (1997)', 1.7407407407407407),\n",
              " (tensor(-0.1713), \"Joe's Apartment (1996)\", 2.2444444444444445),\n",
              " (tensor(-0.1696), 'Thinner (1996)', 2.4489795918367347),\n",
              " (tensor(-0.1693), \"McHale's Navy (1997)\", 2.1884057971014492),\n",
              " (tensor(-0.1683), 'Showgirls (1995)', 1.9565217391304348)]"
            ]
          },
          "metadata": {
            "tags": []
          },
          "execution_count": 53
        }
      ]
    },
    {
      "cell_type": "code",
      "metadata": {
        "id": "hZMSmTcHGYMW",
        "colab_type": "code",
        "colab": {
          "base_uri": "https://localhost:8080/",
          "height": 312
        },
        "outputId": "af986b1e-c12e-480c-8d65-df9c40c0715a"
      },
      "source": [
        "sorted(movie_ratings,key=lambda x:x[0]+x[2],reverse=True)[:15]"
      ],
      "execution_count": 54,
      "outputs": [
        {
          "output_type": "execute_result",
          "data": {
            "text/plain": [
              "[(tensor(0.4806), \"Schindler's List (1993)\", 4.466442953020135),\n",
              " (tensor(0.4495), 'Shawshank Redemption, The (1994)', 4.445229681978798),\n",
              " (tensor(0.3628), 'Close Shave, A (1995)', 4.491071428571429),\n",
              " (tensor(0.3701), 'Casablanca (1942)', 4.45679012345679),\n",
              " (tensor(0.4125), 'Rear Window (1954)', 4.3875598086124405),\n",
              " (tensor(0.3234), 'Wrong Trousers, The (1993)', 4.466101694915254),\n",
              " (tensor(0.3068),\n",
              "  'Wallace & Gromit: The Best of Aardman Animation (1996)',\n",
              "  4.447761194029851),\n",
              " (tensor(0.3651), 'Usual Suspects, The (1995)', 4.385767790262173),\n",
              " (tensor(0.4183), 'Silence of the Lambs, The (1991)', 4.28974358974359),\n",
              " (tensor(0.3421), 'Star Wars (1977)', 4.3584905660377355),\n",
              " (tensor(0.4487), 'Titanic (1997)', 4.2457142857142856),\n",
              " (tensor(0.3802), 'To Kill a Mockingbird (1962)', 4.292237442922374),\n",
              " (tensor(0.3432), \"One Flew Over the Cuckoo's Nest (1975)\", 4.291666666666667),\n",
              " (tensor(0.3694), 'Good Will Hunting (1997)', 4.262626262626263),\n",
              " (tensor(0.2707), '12 Angry Men (1957)', 4.344)]"
            ]
          },
          "metadata": {
            "tags": []
          },
          "execution_count": 54
        }
      ]
    },
    {
      "cell_type": "code",
      "metadata": {
        "id": "AvkOq-hXODSb",
        "colab_type": "code",
        "colab": {}
      },
      "source": [
        "movie_w=lrn.weight(top_movies,is_item=True)"
      ],
      "execution_count": 0,
      "outputs": []
    },
    {
      "cell_type": "code",
      "metadata": {
        "id": "VzLrHGc3ODNP",
        "colab_type": "code",
        "colab": {
          "base_uri": "https://localhost:8080/",
          "height": 121
        },
        "outputId": "b339c91c-9402-40a8-beae-b405db662ed1"
      },
      "source": [
        "print(movie_w.shape)\n",
        "movie_w[0]"
      ],
      "execution_count": 56,
      "outputs": [
        {
          "output_type": "stream",
          "text": [
            "torch.Size([1000, 35])\n"
          ],
          "name": "stdout"
        },
        {
          "output_type": "execute_result",
          "data": {
            "text/plain": [
              "tensor([-0.4429, -0.5112, -0.3017, -0.5129,  0.3194, -0.2655,  0.1704, -0.3745,\n",
              "         0.3340, -0.7620, -0.4230, -0.0607,  0.4737, -0.1171, -0.4336,  0.5324,\n",
              "        -0.1786,  0.3395, -0.3562, -0.5098, -0.3383, -0.6051,  0.0522,  0.1946,\n",
              "        -0.1150, -0.6457, -0.1464, -0.2502, -0.4652,  0.6539,  0.1546,  0.1972,\n",
              "         0.5759,  0.1359,  0.0038])"
            ]
          },
          "metadata": {
            "tags": []
          },
          "execution_count": 56
        }
      ]
    },
    {
      "cell_type": "code",
      "metadata": {
        "id": "UwSjlT_JODEp",
        "colab_type": "code",
        "colab": {}
      },
      "source": [
        "movie_pca=movie_w.pca(3)"
      ],
      "execution_count": 0,
      "outputs": []
    },
    {
      "cell_type": "code",
      "metadata": {
        "id": "KLHhBXeXOC-O",
        "colab_type": "code",
        "colab": {
          "base_uri": "https://localhost:8080/",
          "height": 35
        },
        "outputId": "d2577686-27b8-469f-a72d-01fa5835d8a7"
      },
      "source": [
        "movie_pca.shape"
      ],
      "execution_count": 58,
      "outputs": [
        {
          "output_type": "execute_result",
          "data": {
            "text/plain": [
              "torch.Size([1000, 3])"
            ]
          },
          "metadata": {
            "tags": []
          },
          "execution_count": 58
        }
      ]
    },
    {
      "cell_type": "code",
      "metadata": {
        "id": "sJn1PTamdxvB",
        "colab_type": "code",
        "colab": {}
      },
      "source": [
        "f1,f2,f3=movie_pca.t()"
      ],
      "execution_count": 0,
      "outputs": []
    },
    {
      "cell_type": "code",
      "metadata": {
        "id": "gnq5PXeCR-Pg",
        "colab_type": "code",
        "colab": {
          "base_uri": "https://localhost:8080/",
          "height": 277
        },
        "outputId": "b712c5e3-fd94-456b-fdf0-b57eeeb04439"
      },
      "source": [
        "movie_comp=[(x,i) for x,i in zip(f1,top_movies)]\n",
        "sorted(movie_comp,key=lambda t:t[0],reverse=True)[:15]"
      ],
      "execution_count": 60,
      "outputs": [
        {
          "output_type": "execute_result",
          "data": {
            "text/plain": [
              "[(tensor(1.3083), 'Home Alone 3 (1997)'),\n",
              " (tensor(1.2684), \"McHale's Navy (1997)\"),\n",
              " (tensor(1.2495), 'Jungle2Jungle (1997)'),\n",
              " (tensor(1.1942), 'Leave It to Beaver (1997)'),\n",
              " (tensor(1.1570), 'Children of the Corn: The Gathering (1996)'),\n",
              " (tensor(1.1269), 'Congo (1995)'),\n",
              " (tensor(1.1237), 'Free Willy 3: The Rescue (1997)'),\n",
              " (tensor(1.1156), 'Bio-Dome (1996)'),\n",
              " (tensor(1.0968), 'D3: The Mighty Ducks (1996)'),\n",
              " (tensor(1.0159), 'Batman & Robin (1997)'),\n",
              " (tensor(1.0075), 'Mortal Kombat: Annihilation (1997)'),\n",
              " (tensor(1.0050), 'Richie Rich (1994)'),\n",
              " (tensor(0.9901), 'Flipper (1996)'),\n",
              " (tensor(0.9897), 'Grease 2 (1982)'),\n",
              " (tensor(0.9872), 'Hellraiser: Bloodline (1996)')]"
            ]
          },
          "metadata": {
            "tags": []
          },
          "execution_count": 60
        }
      ]
    },
    {
      "cell_type": "code",
      "metadata": {
        "id": "AHc9IizfR_MG",
        "colab_type": "code",
        "colab": {
          "base_uri": "https://localhost:8080/",
          "height": 295
        },
        "outputId": "0b62181c-b961-401c-f05d-f9eefcc6a9ba"
      },
      "source": [
        "movie_comp=[(x,i) for x,i in zip(f1,top_movies)]\n",
        "sorted(movie_comp,key=lambda t:t[0])[:15]"
      ],
      "execution_count": 61,
      "outputs": [
        {
          "output_type": "execute_result",
          "data": {
            "text/plain": [
              "[(tensor(-1.0803), 'Casablanca (1942)'),\n",
              " (tensor(-1.0599), 'Godfather, The (1972)'),\n",
              " (tensor(-1.0422), 'Close Shave, A (1995)'),\n",
              " (tensor(-1.0394), 'Wrong Trousers, The (1993)'),\n",
              " (tensor(-1.0044), 'Lawrence of Arabia (1962)'),\n",
              " (tensor(-0.9730), 'Chinatown (1974)'),\n",
              " (tensor(-0.9529), 'Fargo (1996)'),\n",
              " (tensor(-0.9511),\n",
              "  'Dr. Strangelove or: How I Learned to Stop Worrying and Love the Bomb (1963)'),\n",
              " (tensor(-0.9409), 'Citizen Kane (1941)'),\n",
              " (tensor(-0.9351), 'North by Northwest (1959)'),\n",
              " (tensor(-0.9254), 'Secrets & Lies (1996)'),\n",
              " (tensor(-0.9249), '12 Angry Men (1957)'),\n",
              " (tensor(-0.9191), 'Persuasion (1995)'),\n",
              " (tensor(-0.9081), 'Apocalypse Now (1979)'),\n",
              " (tensor(-0.9018), \"One Flew Over the Cuckoo's Nest (1975)\")]"
            ]
          },
          "metadata": {
            "tags": []
          },
          "execution_count": 61
        }
      ]
    },
    {
      "cell_type": "code",
      "metadata": {
        "id": "t3SxTJECR_PH",
        "colab_type": "code",
        "colab": {
          "base_uri": "https://localhost:8080/",
          "height": 277
        },
        "outputId": "7f38134e-a6ad-4d87-aa96-42c6ece08bf6"
      },
      "source": [
        "movie_comp=[(x,i) for x,i in zip(f2,top_movies)]\n",
        "sorted(movie_comp,key=lambda t:t[0],reverse=True)[:15]"
      ],
      "execution_count": 62,
      "outputs": [
        {
          "output_type": "execute_result",
          "data": {
            "text/plain": [
              "[(tensor(0.8220), 'Ready to Wear (Pret-A-Porter) (1994)'),\n",
              " (tensor(0.7942), 'Trainspotting (1996)'),\n",
              " (tensor(0.7881), 'Clockwork Orange, A (1971)'),\n",
              " (tensor(0.7722), 'Brazil (1985)'),\n",
              " (tensor(0.7664), 'Beavis and Butt-head Do America (1996)'),\n",
              " (tensor(0.7552), 'Keys to Tulsa (1997)'),\n",
              " (tensor(0.7452), 'Nosferatu (Nosferatu, eine Symphonie des Grauens) (1922)'),\n",
              " (tensor(0.7384), 'Jude (1996)'),\n",
              " (tensor(0.7232), 'Cable Guy, The (1996)'),\n",
              " (tensor(0.7160), 'Big Night (1996)'),\n",
              " (tensor(0.7080), 'Serial Mom (1994)'),\n",
              " (tensor(0.6754), 'Crumb (1994)'),\n",
              " (tensor(0.6688), 'Showgirls (1995)'),\n",
              " (tensor(0.6667), 'Rosencrantz and Guildenstern Are Dead (1990)'),\n",
              " (tensor(0.6583), 'Sweet Hereafter, The (1997)')]"
            ]
          },
          "metadata": {
            "tags": []
          },
          "execution_count": 62
        }
      ]
    },
    {
      "cell_type": "code",
      "metadata": {
        "id": "Kj4V30AxR_YH",
        "colab_type": "code",
        "colab": {
          "base_uri": "https://localhost:8080/",
          "height": 277
        },
        "outputId": "0c1b51a2-7c25-4e5f-c021-1c90f4d6dc7c"
      },
      "source": [
        "movie_comp=[(x,i) for x,i in zip(f2,top_movies)]\n",
        "sorted(movie_comp,key=lambda t:t[0])[:15]"
      ],
      "execution_count": 63,
      "outputs": [
        {
          "output_type": "execute_result",
          "data": {
            "text/plain": [
              "[(tensor(-1.1491), 'Braveheart (1995)'),\n",
              " (tensor(-1.1118), 'Titanic (1997)'),\n",
              " (tensor(-1.0885), 'Raiders of the Lost Ark (1981)'),\n",
              " (tensor(-0.9216), \"It's a Wonderful Life (1946)\"),\n",
              " (tensor(-0.8969), 'Star Wars (1977)'),\n",
              " (tensor(-0.8882), 'Independence Day (ID4) (1996)'),\n",
              " (tensor(-0.8807), 'Air Force One (1997)'),\n",
              " (tensor(-0.8623), 'American President, The (1995)'),\n",
              " (tensor(-0.8580), 'Return of the Jedi (1983)'),\n",
              " (tensor(-0.8451), \"Mr. Holland's Opus (1995)\"),\n",
              " (tensor(-0.8414), 'Hunt for Red October, The (1990)'),\n",
              " (tensor(-0.8399), 'Forrest Gump (1994)'),\n",
              " (tensor(-0.8377), 'Pretty Woman (1990)'),\n",
              " (tensor(-0.8194), 'Back to the Future (1985)'),\n",
              " (tensor(-0.7907), 'Top Gun (1986)')]"
            ]
          },
          "metadata": {
            "tags": []
          },
          "execution_count": 63
        }
      ]
    },
    {
      "cell_type": "code",
      "metadata": {
        "id": "68GhG8doR_bf",
        "colab_type": "code",
        "colab": {
          "base_uri": "https://localhost:8080/",
          "height": 277
        },
        "outputId": "ca818ad8-a12d-4800-c0ea-4a67ec510820"
      },
      "source": [
        "movie_comp=[(x,i) for x,i in zip(f3,top_movies)]\n",
        "sorted(movie_comp,key=lambda t:t[0],reverse=True)[:15]"
      ],
      "execution_count": 64,
      "outputs": [
        {
          "output_type": "execute_result",
          "data": {
            "text/plain": [
              "[(tensor(0.7733), 'Piano, The (1993)'),\n",
              " (tensor(0.7463), 'Crucible, The (1996)'),\n",
              " (tensor(0.6569), \"Breakfast at Tiffany's (1961)\"),\n",
              " (tensor(0.6146), 'Cinema Paradiso (1988)'),\n",
              " (tensor(0.5978), 'My Fair Lady (1964)'),\n",
              " (tensor(0.5893), 'Dirty Dancing (1987)'),\n",
              " (tensor(0.5880), 'Emma (1996)'),\n",
              " (tensor(0.5878), 'All About Eve (1950)'),\n",
              " (tensor(0.5784), 'Little Women (1994)'),\n",
              " (tensor(0.5595), 'Room with a View, A (1986)'),\n",
              " (tensor(0.5525), 'Evita (1996)'),\n",
              " (tensor(0.5423), 'Sound of Music, The (1965)'),\n",
              " (tensor(0.5400), 'To Kill a Mockingbird (1962)'),\n",
              " (tensor(0.5397), 'English Patient, The (1996)'),\n",
              " (tensor(0.5267), 'Bridges of Madison County, The (1995)')]"
            ]
          },
          "metadata": {
            "tags": []
          },
          "execution_count": 64
        }
      ]
    },
    {
      "cell_type": "code",
      "metadata": {
        "id": "LYDXXq7FR_Vo",
        "colab_type": "code",
        "colab": {
          "base_uri": "https://localhost:8080/",
          "height": 277
        },
        "outputId": "e4561618-f7ba-471c-e085-26b2ed35184c"
      },
      "source": [
        "movie_comp=[(x,i) for x,i in zip(f3,top_movies)]\n",
        "sorted(movie_comp,key=lambda t:t[0])[:15]"
      ],
      "execution_count": 65,
      "outputs": [
        {
          "output_type": "execute_result",
          "data": {
            "text/plain": [
              "[(tensor(-1.0454), 'Terminator, The (1984)'),\n",
              " (tensor(-0.8581), 'Beavis and Butt-head Do America (1996)'),\n",
              " (tensor(-0.8062), 'Reservoir Dogs (1992)'),\n",
              " (tensor(-0.7756), 'Scream (1996)'),\n",
              " (tensor(-0.7627), 'Star Wars (1977)'),\n",
              " (tensor(-0.7426), 'Terminator 2: Judgment Day (1991)'),\n",
              " (tensor(-0.7341), 'Starship Troopers (1997)'),\n",
              " (tensor(-0.7338), 'Clerks (1994)'),\n",
              " (tensor(-0.7284), 'Empire Strikes Back, The (1980)'),\n",
              " (tensor(-0.7249), 'Event Horizon (1997)'),\n",
              " (tensor(-0.6842), 'Rock, The (1996)'),\n",
              " (tensor(-0.6745), 'Game, The (1997)'),\n",
              " (tensor(-0.6353), 'Die Hard (1988)'),\n",
              " (tensor(-0.6226), 'Crow, The (1994)'),\n",
              " (tensor(-0.6161), 'Die Hard: With a Vengeance (1995)')]"
            ]
          },
          "metadata": {
            "tags": []
          },
          "execution_count": 65
        }
      ]
    },
    {
      "cell_type": "code",
      "metadata": {
        "id": "wNvu6qTblRp6",
        "colab_type": "code",
        "colab": {}
      },
      "source": [
        "import seaborn as sns"
      ],
      "execution_count": 0,
      "outputs": []
    },
    {
      "cell_type": "code",
      "metadata": {
        "id": "NEYdTxaiR_SZ",
        "colab_type": "code",
        "colab": {
          "base_uri": "https://localhost:8080/",
          "height": 989
        },
        "outputId": "0b895302-e233-40f0-92ee-3ca74de1a357"
      },
      "source": [
        "# idxs = np.random.choice(len(top_movies), 50, replace=False)\n",
        "idxs = list(range(20))\n",
        "X = f1[idxs]\n",
        "Y = f3[idxs]\n",
        "plt.figure(figsize=(20,18))\n",
        "sns.scatterplot(X, Y)\n",
        "for i, x, y in zip(top_movies[idxs], X, Y):\n",
        "     plt.text(x,y,i, color=np.random.rand(3)*0.7, fontsize=12)\n",
        "plt.show()"
      ],
      "execution_count": 67,
      "outputs": [
        {
          "output_type": "display_data",
          "data": {
            "image/png": "[encoded data removed]",
            "text/plain": [
              "<Figure size 1440x1296 with 1 Axes>"
            ]
          },
          "metadata": {
            "tags": [],
            "needs_background": "light"
          }
        }
      ]
    }
  ]
}