{
  "nbformat": 4,
  "nbformat_minor": 0,
  "metadata": {
    "colab": {
      "name": "movielens_collab_filtering.ipynb",
      "provenance": [],
      "collapsed_sections": [],
      "authorship_tag": "ABX9TyPNsxCP86hHnqbw4dqYgFam",
      "include_colab_link": true
    },
    "kernelspec": {
      "name": "python3",
      "display_name": "Python 3"
    },
    "accelerator": "GPU"
  },
  "cells": [
    {
      "cell_type": "markdown",
      "metadata": {
        "id": "view-in-github",
        "colab_type": "text"
      },
      "source": [
        "<a href=\"https://colab.research.google.com/github/Satvik256/TestRepo/blob/master/movielens_collab_filtering.ipynb\" target=\"_parent\"><img src=\"https://colab.research.google.com/assets/colab-badge.svg\" alt=\"Open In Colab\"/></a>"
      ]
    },
    {
      "cell_type": "code",
      "metadata": {
        "id": "-ofeHrMP7g4s",
        "colab_type": "code",
        "colab": {}
      },
      "source": [
        "from fastai.collab import *\n",
        "from fastai.tabular import *"
      ],
      "execution_count": 0,
      "outputs": []
    },
    {
      "cell_type": "code",
      "metadata": {
        "id": "BxYjdHoC8daf",
        "colab_type": "code",
        "outputId": "27473985-b3e2-4dd9-a9d4-b28043ee6943",
        "colab": {
          "base_uri": "https://localhost:8080/",
          "height": 208
        }
      },
      "source": [
        "!wget http://files.grouplens.org/datasets/movielens/ml-100k.zip"
      ],
      "execution_count": 3,
      "outputs": [
        {
          "output_type": "stream",
          "text": [
            "--2020-06-01 09:30:30--  http://files.grouplens.org/datasets/movielens/ml-100k.zip\n",
            "Resolving files.grouplens.org (files.grouplens.org)... 128.101.65.152\n",
            "Connecting to files.grouplens.org (files.grouplens.org)|128.101.65.152|:80... connected.\n",
            "HTTP request sent, awaiting response... 200 OK\n",
            "Length: 4924029 (4.7M) [application/zip]\n",
            "Saving to: ‘ml-100k.zip’\n",
            "\n",
            "\rml-100k.zip           0%[                    ]       0  --.-KB/s               \rml-100k.zip         100%[===================>]   4.70M  28.8MB/s    in 0.2s    \n",
            "\n",
            "2020-06-01 09:30:30 (28.8 MB/s) - ‘ml-100k.zip’ saved [4924029/4924029]\n",
            "\n"
          ],
          "name": "stdout"
        }
      ]
    },
    {
      "cell_type": "code",
      "metadata": {
        "id": "v2riCnja8gez",
        "colab_type": "code",
        "outputId": "4726ba07-e160-489f-a5b5-c5f298205f54",
        "colab": {
          "base_uri": "https://localhost:8080/",
          "height": 451
        }
      },
      "source": [
        "!unzip /content/ml-100k"
      ],
      "execution_count": 4,
      "outputs": [
        {
          "output_type": "stream",
          "text": [
            "Archive:  /content/ml-100k.zip\n",
            "   creating: ml-100k/\n",
            "  inflating: ml-100k/allbut.pl       \n",
            "  inflating: ml-100k/mku.sh          \n",
            "  inflating: ml-100k/README          \n",
            "  inflating: ml-100k/u.data          \n",
            "  inflating: ml-100k/u.genre         \n",
            "  inflating: ml-100k/u.info          \n",
            "  inflating: ml-100k/u.item          \n",
            "  inflating: ml-100k/u.occupation    \n",
            "  inflating: ml-100k/u.user          \n",
            "  inflating: ml-100k/u1.base         \n",
            "  inflating: ml-100k/u1.test         \n",
            "  inflating: ml-100k/u2.base         \n",
            "  inflating: ml-100k/u2.test         \n",
            "  inflating: ml-100k/u3.base         \n",
            "  inflating: ml-100k/u3.test         \n",
            "  inflating: ml-100k/u4.base         \n",
            "  inflating: ml-100k/u4.test         \n",
            "  inflating: ml-100k/u5.base         \n",
            "  inflating: ml-100k/u5.test         \n",
            "  inflating: ml-100k/ua.base         \n",
            "  inflating: ml-100k/ua.test         \n",
            "  inflating: ml-100k/ub.base         \n",
            "  inflating: ml-100k/ub.test         \n"
          ],
          "name": "stdout"
        }
      ]
    },
    {
      "cell_type": "code",
      "metadata": {
        "id": "KdeScpNy8tnw",
        "colab_type": "code",
        "colab": {}
      },
      "source": [
        "path=Path('/content/ml-100k')"
      ],
      "execution_count": 0,
      "outputs": []
    },
    {
      "cell_type": "code",
      "metadata": {
        "id": "yWfdtSZY9Dnr",
        "colab_type": "code",
        "colab": {}
      },
      "source": [
        "ratings = pd.read_csv(path/'u.data', delimiter='\\t', header=None,names=['user_id','movie_id','rating','timestamp'])                     "
      ],
      "execution_count": 0,
      "outputs": []
    },
    {
      "cell_type": "code",
      "metadata": {
        "id": "geVWWdyk9PRp",
        "colab_type": "code",
        "outputId": "4b04ce5c-b3ec-4451-f8c4-75a4e4b1e9da",
        "colab": {
          "base_uri": "https://localhost:8080/",
          "height": 202
        }
      },
      "source": [
        "ratings.head()"
      ],
      "execution_count": 7,
      "outputs": [
        {
          "output_type": "execute_result",
          "data": {
            "text/html": [
              "<div>\n",
              "<style scoped>\n",
              "    .dataframe tbody tr th:only-of-type {\n",
              "        vertical-align: middle;\n",
              "    }\n",
              "\n",
              "    .dataframe tbody tr th {\n",
              "        vertical-align: top;\n",
              "    }\n",
              "\n",
              "    .dataframe thead th {\n",
              "        text-align: right;\n",
              "    }\n",
              "</style>\n",
              "<table border=\"1\" class=\"dataframe\">\n",
              "  <thead>\n",
              "    <tr style=\"text-align: right;\">\n",
              "      <th></th>\n",
              "      <th>user_id</th>\n",
              "      <th>movie_id</th>\n",
              "      <th>rating</th>\n",
              "      <th>timestamp</th>\n",
              "    </tr>\n",
              "  </thead>\n",
              "  <tbody>\n",
              "    <tr>\n",
              "      <th>0</th>\n",
              "      <td>196</td>\n",
              "      <td>242</td>\n",
              "      <td>3</td>\n",
              "      <td>881250949</td>\n",
              "    </tr>\n",
              "    <tr>\n",
              "      <th>1</th>\n",
              "      <td>186</td>\n",
              "      <td>302</td>\n",
              "      <td>3</td>\n",
              "      <td>891717742</td>\n",
              "    </tr>\n",
              "    <tr>\n",
              "      <th>2</th>\n",
              "      <td>22</td>\n",
              "      <td>377</td>\n",
              "      <td>1</td>\n",
              "      <td>878887116</td>\n",
              "    </tr>\n",
              "    <tr>\n",
              "      <th>3</th>\n",
              "      <td>244</td>\n",
              "      <td>51</td>\n",
              "      <td>2</td>\n",
              "      <td>880606923</td>\n",
              "    </tr>\n",
              "    <tr>\n",
              "      <th>4</th>\n",
              "      <td>166</td>\n",
              "      <td>346</td>\n",
              "      <td>1</td>\n",
              "      <td>886397596</td>\n",
              "    </tr>\n",
              "  </tbody>\n",
              "</table>\n",
              "</div>"
            ],
            "text/plain": [
              "   user_id  movie_id  rating  timestamp\n",
              "0      196       242       3  881250949\n",
              "1      186       302       3  891717742\n",
              "2       22       377       1  878887116\n",
              "3      244        51       2  880606923\n",
              "4      166       346       1  886397596"
            ]
          },
          "metadata": {
            "tags": []
          },
          "execution_count": 7
        }
      ]
    },
    {
      "cell_type": "code",
      "metadata": {
        "id": "pLqZmUOL9QOp",
        "colab_type": "code",
        "outputId": "c7563e29-aeb6-4019-a4ea-95d16226a6a1",
        "colab": {
          "base_uri": "https://localhost:8080/",
          "height": 375
        }
      },
      "source": [
        "movies = pd.read_csv(path/'u.item',  delimiter='|', encoding='latin-1', header=None,\n",
        "                    names=['movie_id', 'title', 'date', 'N', 'url',*[f'g{i}' for i in range(19)]])\n",
        "movies.head()"
      ],
      "execution_count": 8,
      "outputs": [
        {
          "output_type": "execute_result",
          "data": {
            "text/html": [
              "<div>\n",
              "<style scoped>\n",
              "    .dataframe tbody tr th:only-of-type {\n",
              "        vertical-align: middle;\n",
              "    }\n",
              "\n",
              "    .dataframe tbody tr th {\n",
              "        vertical-align: top;\n",
              "    }\n",
              "\n",
              "    .dataframe thead th {\n",
              "        text-align: right;\n",
              "    }\n",
              "</style>\n",
              "<table border=\"1\" class=\"dataframe\">\n",
              "  <thead>\n",
              "    <tr style=\"text-align: right;\">\n",
              "      <th></th>\n",
              "      <th>movie_id</th>\n",
              "      <th>title</th>\n",
              "      <th>date</th>\n",
              "      <th>N</th>\n",
              "      <th>url</th>\n",
              "      <th>g0</th>\n",
              "      <th>g1</th>\n",
              "      <th>g2</th>\n",
              "      <th>g3</th>\n",
              "      <th>g4</th>\n",
              "      <th>g5</th>\n",
              "      <th>g6</th>\n",
              "      <th>g7</th>\n",
              "      <th>g8</th>\n",
              "      <th>g9</th>\n",
              "      <th>g10</th>\n",
              "      <th>g11</th>\n",
              "      <th>g12</th>\n",
              "      <th>g13</th>\n",
              "      <th>g14</th>\n",
              "      <th>g15</th>\n",
              "      <th>g16</th>\n",
              "      <th>g17</th>\n",
              "      <th>g18</th>\n",
              "    </tr>\n",
              "  </thead>\n",
              "  <tbody>\n",
              "    <tr>\n",
              "      <th>0</th>\n",
              "      <td>1</td>\n",
              "      <td>Toy Story (1995)</td>\n",
              "      <td>01-Jan-1995</td>\n",
              "      <td>NaN</td>\n",
              "      <td>http://us.imdb.com/M/title-exact?Toy%20Story%2...</td>\n",
              "      <td>0</td>\n",
              "      <td>0</td>\n",
              "      <td>0</td>\n",
              "      <td>1</td>\n",
              "      <td>1</td>\n",
              "      <td>1</td>\n",
              "      <td>0</td>\n",
              "      <td>0</td>\n",
              "      <td>0</td>\n",
              "      <td>0</td>\n",
              "      <td>0</td>\n",
              "      <td>0</td>\n",
              "      <td>0</td>\n",
              "      <td>0</td>\n",
              "      <td>0</td>\n",
              "      <td>0</td>\n",
              "      <td>0</td>\n",
              "      <td>0</td>\n",
              "      <td>0</td>\n",
              "    </tr>\n",
              "    <tr>\n",
              "      <th>1</th>\n",
              "      <td>2</td>\n",
              "      <td>GoldenEye (1995)</td>\n",
              "      <td>01-Jan-1995</td>\n",
              "      <td>NaN</td>\n",
              "      <td>http://us.imdb.com/M/title-exact?GoldenEye%20(...</td>\n",
              "      <td>0</td>\n",
              "      <td>1</td>\n",
              "      <td>1</td>\n",
              "      <td>0</td>\n",
              "      <td>0</td>\n",
              "      <td>0</td>\n",
              "      <td>0</td>\n",
              "      <td>0</td>\n",
              "      <td>0</td>\n",
              "      <td>0</td>\n",
              "      <td>0</td>\n",
              "      <td>0</td>\n",
              "      <td>0</td>\n",
              "      <td>0</td>\n",
              "      <td>0</td>\n",
              "      <td>0</td>\n",
              "      <td>1</td>\n",
              "      <td>0</td>\n",
              "      <td>0</td>\n",
              "    </tr>\n",
              "    <tr>\n",
              "      <th>2</th>\n",
              "      <td>3</td>\n",
              "      <td>Four Rooms (1995)</td>\n",
              "      <td>01-Jan-1995</td>\n",
              "      <td>NaN</td>\n",
              "      <td>http://us.imdb.com/M/title-exact?Four%20Rooms%...</td>\n",
              "      <td>0</td>\n",
              "      <td>0</td>\n",
              "      <td>0</td>\n",
              "      <td>0</td>\n",
              "      <td>0</td>\n",
              "      <td>0</td>\n",
              "      <td>0</td>\n",
              "      <td>0</td>\n",
              "      <td>0</td>\n",
              "      <td>0</td>\n",
              "      <td>0</td>\n",
              "      <td>0</td>\n",
              "      <td>0</td>\n",
              "      <td>0</td>\n",
              "      <td>0</td>\n",
              "      <td>0</td>\n",
              "      <td>1</td>\n",
              "      <td>0</td>\n",
              "      <td>0</td>\n",
              "    </tr>\n",
              "    <tr>\n",
              "      <th>3</th>\n",
              "      <td>4</td>\n",
              "      <td>Get Shorty (1995)</td>\n",
              "      <td>01-Jan-1995</td>\n",
              "      <td>NaN</td>\n",
              "      <td>http://us.imdb.com/M/title-exact?Get%20Shorty%...</td>\n",
              "      <td>0</td>\n",
              "      <td>1</td>\n",
              "      <td>0</td>\n",
              "      <td>0</td>\n",
              "      <td>0</td>\n",
              "      <td>1</td>\n",
              "      <td>0</td>\n",
              "      <td>0</td>\n",
              "      <td>1</td>\n",
              "      <td>0</td>\n",
              "      <td>0</td>\n",
              "      <td>0</td>\n",
              "      <td>0</td>\n",
              "      <td>0</td>\n",
              "      <td>0</td>\n",
              "      <td>0</td>\n",
              "      <td>0</td>\n",
              "      <td>0</td>\n",
              "      <td>0</td>\n",
              "    </tr>\n",
              "    <tr>\n",
              "      <th>4</th>\n",
              "      <td>5</td>\n",
              "      <td>Copycat (1995)</td>\n",
              "      <td>01-Jan-1995</td>\n",
              "      <td>NaN</td>\n",
              "      <td>http://us.imdb.com/M/title-exact?Copycat%20(1995)</td>\n",
              "      <td>0</td>\n",
              "      <td>0</td>\n",
              "      <td>0</td>\n",
              "      <td>0</td>\n",
              "      <td>0</td>\n",
              "      <td>0</td>\n",
              "      <td>1</td>\n",
              "      <td>0</td>\n",
              "      <td>1</td>\n",
              "      <td>0</td>\n",
              "      <td>0</td>\n",
              "      <td>0</td>\n",
              "      <td>0</td>\n",
              "      <td>0</td>\n",
              "      <td>0</td>\n",
              "      <td>0</td>\n",
              "      <td>1</td>\n",
              "      <td>0</td>\n",
              "      <td>0</td>\n",
              "    </tr>\n",
              "  </tbody>\n",
              "</table>\n",
              "</div>"
            ],
            "text/plain": [
              "   movie_id              title         date   N  ... g15  g16  g17  g18\n",
              "0         1   Toy Story (1995)  01-Jan-1995 NaN  ...   0    0    0    0\n",
              "1         2   GoldenEye (1995)  01-Jan-1995 NaN  ...   0    1    0    0\n",
              "2         3  Four Rooms (1995)  01-Jan-1995 NaN  ...   0    1    0    0\n",
              "3         4  Get Shorty (1995)  01-Jan-1995 NaN  ...   0    0    0    0\n",
              "4         5     Copycat (1995)  01-Jan-1995 NaN  ...   0    1    0    0\n",
              "\n",
              "[5 rows x 24 columns]"
            ]
          },
          "metadata": {
            "tags": []
          },
          "execution_count": 8
        }
      ]
    },
    {
      "cell_type": "code",
      "metadata": {
        "id": "r1NvTkcX-0EW",
        "colab_type": "code",
        "outputId": "8dcca8a6-95a4-4af1-f7a2-44f137bf2625",
        "colab": {
          "base_uri": "https://localhost:8080/",
          "height": 1000
        }
      },
      "source": [
        "doc(pd.merge)"
      ],
      "execution_count": 9,
      "outputs": [
        {
          "output_type": "display_data",
          "data": {
            "text/html": [
              "<h4 id=\"merge\" class=\"doc_header\"><code>merge</code><a class=\"source_link\" data-toggle=\"collapse\" data-target=\"#merge-pytest\" style=\"float:right; padding-right:10px\">[test]</a></h4><blockquote><p><code>merge</code>(<strong><code>left</code></strong>, <strong><code>right</code></strong>, <strong><code>how</code></strong>:<code>str</code>=<strong><em><code>'inner'</code></em></strong>, <strong><code>on</code></strong>=<strong><em><code>None</code></em></strong>, <strong><code>left_on</code></strong>=<strong><em><code>None</code></em></strong>, <strong><code>right_on</code></strong>=<strong><em><code>None</code></em></strong>, <strong><code>left_index</code></strong>:<code>bool</code>=<strong><em><code>False</code></em></strong>, <strong><code>right_index</code></strong>:<code>bool</code>=<strong><em><code>False</code></em></strong>, <strong><code>sort</code></strong>:<code>bool</code>=<strong><em><code>False</code></em></strong>, <strong><code>suffixes</code></strong>=<strong><em><code>('_x', '_y')</code></em></strong>, <strong><code>copy</code></strong>:<code>bool</code>=<strong><em><code>True</code></em></strong>, <strong><code>indicator</code></strong>:<code>bool</code>=<strong><em><code>False</code></em></strong>, <strong><code>validate</code></strong>=<strong><em><code>None</code></em></strong>) → <code>DataFrame</code></p>\n",
              "</blockquote>\n",
              "<div class=\"collapse\" id=\"merge-pytest\"><div class=\"card card-body pytest_card\"><a type=\"button\" data-toggle=\"collapse\" data-target=\"#merge-pytest\" class=\"close\" aria-label=\"Close\"><span aria-hidden=\"true\">&times;</span></a><p>No tests found for <code>merge</code>. To contribute a test please refer to <a href=\"/dev/test.html\">this guide</a> and <a href=\"https://forums.fast.ai/t/improving-expanding-functional-tests/32929\">this discussion</a>.</p></div></div><p>Merge DataFrame or named Series objects with a database-style join. The join is done on columns or indexes. If joining columns on\n",
              "columns, the DataFrame indexes <em>will be ignored</em>. Otherwise if joining indexes\n",
              "on indexes or indexes on a column or columns, the index will be passed on.</p>\n",
              "<h2 id=\"Parameters\">Parameters<a class=\"anchor-link\" href=\"#Parameters\">&#182;</a></h2><p>left : DataFrame\n",
              "right : DataFrame or named Series\n",
              "    Object to merge with.\n",
              "how : {'left', 'right', 'outer', 'inner'}, default 'inner'\n",
              "    Type of merge to be performed.</p>\n",
              "\n",
              "<pre><code>* left: use only keys from left frame, similar to a SQL left outer join;\n",
              "  preserve key order.\n",
              "* right: use only keys from right frame, similar to a SQL right outer join;\n",
              "  preserve key order.\n",
              "* outer: use union of keys from both frames, similar to a SQL full outer\n",
              "  join; sort keys lexicographically.\n",
              "* inner: use intersection of keys from both frames, similar to a SQL inner\n",
              "  join; preserve the order of the left keys.\n",
              "</code></pre>\n",
              "<p>on : label or list\n",
              "    Column or index level names to join on. These must be found in both\n",
              "    DataFrames. If <code>on</code> is None and not merging on indexes then this defaults\n",
              "    to the intersection of the columns in both DataFrames.\n",
              "left_on : label or list, or array-like\n",
              "    Column or index level names to join on in the left DataFrame. Can also\n",
              "    be an array or list of arrays of the length of the left DataFrame.\n",
              "    These arrays are treated as if they are columns.\n",
              "right_on : label or list, or array-like\n",
              "    Column or index level names to join on in the right DataFrame. Can also\n",
              "    be an array or list of arrays of the length of the right DataFrame.\n",
              "    These arrays are treated as if they are columns.\n",
              "left_index : bool, default False\n",
              "    Use the index from the left DataFrame as the join key(s). If it is a\n",
              "    MultiIndex, the number of keys in the other DataFrame (either the index\n",
              "    or a number of columns) must match the number of levels.\n",
              "right_index : bool, default False\n",
              "    Use the index from the right DataFrame as the join key. Same caveats as\n",
              "    left_index.\n",
              "sort : bool, default False\n",
              "    Sort the join keys lexicographically in the result DataFrame. If False,\n",
              "    the order of the join keys depends on the join type (how keyword).\n",
              "suffixes : tuple of (str, str), default ('_x', '_y')\n",
              "    Suffix to apply to overlapping column names in the left and right\n",
              "    side, respectively. To raise an exception on overlapping columns use\n",
              "    (False, False).\n",
              "copy : bool, default True\n",
              "    If False, avoid copy if possible.\n",
              "indicator : bool or str, default False\n",
              "    If True, adds a column to output DataFrame called \"_merge\" with\n",
              "    information on the source of each row.\n",
              "    If string, column with information on source of each row will be added to\n",
              "    output DataFrame, and column will be named value of string.\n",
              "    Information column is Categorical-type and takes on a value of \"left_only\"\n",
              "    for observations whose merge key only appears in 'left' DataFrame,\n",
              "    \"right_only\" for observations whose merge key only appears in 'right'\n",
              "    DataFrame, and \"both\" if the observation's merge key is found in both.</p>\n",
              "<p>validate : str, optional\n",
              "    If specified, checks if merge is of specified type.</p>\n",
              "\n",
              "<pre><code>* \"one_to_one\" or \"1:1\": check if merge keys are unique in both\n",
              "  left and right datasets.\n",
              "* \"one_to_many\" or \"1:m\": check if merge keys are unique in left\n",
              "  dataset.\n",
              "* \"many_to_one\" or \"m:1\": check if merge keys are unique in right\n",
              "  dataset.\n",
              "* \"many_to_many\" or \"m:m\": allowed, but does not result in checks.\n",
              "\n",
              ".. versionadded:: 0.21.0\n",
              "\n",
              "</code></pre>\n",
              "<h2 id=\"Returns\">Returns<a class=\"anchor-link\" href=\"#Returns\">&#182;</a></h2><p>DataFrame\n",
              "    A DataFrame of the two merged objects.</p>\n",
              "<h2 id=\"See-Also\">See Also<a class=\"anchor-link\" href=\"#See-Also\">&#182;</a></h2><p>merge_ordered : Merge with optional filling/interpolation.\n",
              "merge_asof : Merge on nearest keys.\n",
              "DataFrame.join : Similar method using indices.</p>\n",
              "<h2 id=\"Notes\">Notes<a class=\"anchor-link\" href=\"#Notes\">&#182;</a></h2><p>Support for specifying index levels as the <code>on</code>, <code>left_on</code>, and\n",
              "<code>right_on</code> parameters was added in version 0.23.0\n",
              "Support for merging named Series objects was added in version 0.24.0</p>\n",
              "<h2 id=\"Examples\">Examples<a class=\"anchor-link\" href=\"#Examples\">&#182;</a></h2><blockquote><blockquote><blockquote><p>df1 = pd.DataFrame({'lkey': ['foo', 'bar', 'baz', 'foo'],\n",
              "...                     'value': [1, 2, 3, 5]})\n",
              "df2 = pd.DataFrame({'rkey': ['foo', 'bar', 'baz', 'foo'],\n",
              "...                     'value': [5, 6, 7, 8]})\n",
              "df1\n",
              "    lkey value\n",
              "0   foo      1\n",
              "1   bar      2\n",
              "2   baz      3\n",
              "3   foo      5\n",
              "df2\n",
              "    rkey value\n",
              "0   foo      5\n",
              "1   bar      6\n",
              "2   baz      7\n",
              "3   foo      8</p>\n",
              "</blockquote>\n",
              "</blockquote>\n",
              "</blockquote>\n",
              "<p>Merge df1 and df2 on the lkey and rkey columns. The value columns have\n",
              "the default suffixes, _x and _y, appended.</p>\n",
              "<blockquote><blockquote><blockquote><p>df1.merge(df2, left_on='lkey', right_on='rkey')\n",
              "  lkey  value_x rkey  value_y\n",
              "0  foo        1  foo        5\n",
              "1  foo        1  foo        8\n",
              "2  foo        5  foo        5\n",
              "3  foo        5  foo        8\n",
              "4  bar        2  bar        6\n",
              "5  baz        3  baz        7</p>\n",
              "</blockquote>\n",
              "</blockquote>\n",
              "</blockquote>\n",
              "<p>Merge DataFrames df1 and df2 with specified left and right suffixes\n",
              "appended to any overlapping columns.</p>\n",
              "<blockquote><blockquote><blockquote><p>df1.merge(df2, left_on='lkey', right_on='rkey',\n",
              "...           suffixes=('_left', '_right'))\n",
              "  lkey  value_left rkey  value_right\n",
              "0  foo           1  foo            5\n",
              "1  foo           1  foo            8\n",
              "2  foo           5  foo            5\n",
              "3  foo           5  foo            8\n",
              "4  bar           2  bar            6\n",
              "5  baz           3  baz            7</p>\n",
              "</blockquote>\n",
              "</blockquote>\n",
              "</blockquote>\n",
              "<p>Merge DataFrames df1 and df2, but raise an exception if the DataFrames have\n",
              "any overlapping columns.</p>\n",
              "<blockquote><blockquote><blockquote><p>df1.merge(df2, left_on='lkey', right_on='rkey', suffixes=(False, False))\n",
              "Traceback (most recent call last):\n",
              "...\n",
              "ValueError: columns overlap but no suffix specified:\n",
              "    Index(['value'], dtype='object')</p>\n",
              "</blockquote>\n",
              "</blockquote>\n",
              "</blockquote>\n"
            ],
            "text/plain": [
              "<IPython.core.display.HTML object>"
            ]
          },
          "metadata": {
            "tags": []
          }
        }
      ]
    },
    {
      "cell_type": "code",
      "metadata": {
        "id": "0yQe8eb-92dr",
        "colab_type": "code",
        "colab": {}
      },
      "source": [
        "rating_movie=pd.merge(ratings,movies,how='inner',on=['movie_id'])"
      ],
      "execution_count": 0,
      "outputs": []
    },
    {
      "cell_type": "code",
      "metadata": {
        "id": "vEG6R1hEDrTF",
        "colab_type": "code",
        "colab": {}
      },
      "source": [
        "rating_movie=rating_movie[['user_id','movie_id','rating','timestamp','title']]"
      ],
      "execution_count": 0,
      "outputs": []
    },
    {
      "cell_type": "code",
      "metadata": {
        "id": "P2p6ZfywF8Lu",
        "colab_type": "code",
        "outputId": "213a996e-2e12-427f-eeb3-532bb15fd255",
        "colab": {
          "base_uri": "https://localhost:8080/",
          "height": 202
        }
      },
      "source": [
        "rating_movie.head()"
      ],
      "execution_count": 31,
      "outputs": [
        {
          "output_type": "execute_result",
          "data": {
            "text/html": [
              "<div>\n",
              "<style scoped>\n",
              "    .dataframe tbody tr th:only-of-type {\n",
              "        vertical-align: middle;\n",
              "    }\n",
              "\n",
              "    .dataframe tbody tr th {\n",
              "        vertical-align: top;\n",
              "    }\n",
              "\n",
              "    .dataframe thead th {\n",
              "        text-align: right;\n",
              "    }\n",
              "</style>\n",
              "<table border=\"1\" class=\"dataframe\">\n",
              "  <thead>\n",
              "    <tr style=\"text-align: right;\">\n",
              "      <th></th>\n",
              "      <th>user_id</th>\n",
              "      <th>movie_id</th>\n",
              "      <th>rating</th>\n",
              "      <th>timestamp</th>\n",
              "      <th>title</th>\n",
              "    </tr>\n",
              "  </thead>\n",
              "  <tbody>\n",
              "    <tr>\n",
              "      <th>0</th>\n",
              "      <td>196</td>\n",
              "      <td>242</td>\n",
              "      <td>3</td>\n",
              "      <td>881250949</td>\n",
              "      <td>Kolya (1996)</td>\n",
              "    </tr>\n",
              "    <tr>\n",
              "      <th>1</th>\n",
              "      <td>63</td>\n",
              "      <td>242</td>\n",
              "      <td>3</td>\n",
              "      <td>875747190</td>\n",
              "      <td>Kolya (1996)</td>\n",
              "    </tr>\n",
              "    <tr>\n",
              "      <th>2</th>\n",
              "      <td>226</td>\n",
              "      <td>242</td>\n",
              "      <td>5</td>\n",
              "      <td>883888671</td>\n",
              "      <td>Kolya (1996)</td>\n",
              "    </tr>\n",
              "    <tr>\n",
              "      <th>3</th>\n",
              "      <td>154</td>\n",
              "      <td>242</td>\n",
              "      <td>3</td>\n",
              "      <td>879138235</td>\n",
              "      <td>Kolya (1996)</td>\n",
              "    </tr>\n",
              "    <tr>\n",
              "      <th>4</th>\n",
              "      <td>306</td>\n",
              "      <td>242</td>\n",
              "      <td>5</td>\n",
              "      <td>876503793</td>\n",
              "      <td>Kolya (1996)</td>\n",
              "    </tr>\n",
              "  </tbody>\n",
              "</table>\n",
              "</div>"
            ],
            "text/plain": [
              "   user_id  movie_id  rating  timestamp         title\n",
              "0      196       242       3  881250949  Kolya (1996)\n",
              "1       63       242       3  875747190  Kolya (1996)\n",
              "2      226       242       5  883888671  Kolya (1996)\n",
              "3      154       242       3  879138235  Kolya (1996)\n",
              "4      306       242       5  876503793  Kolya (1996)"
            ]
          },
          "metadata": {
            "tags": []
          },
          "execution_count": 31
        }
      ]
    },
    {
      "cell_type": "code",
      "metadata": {
        "id": "Mk2KKcVssZFi",
        "colab_type": "code",
        "colab": {}
      },
      "source": [
        "data=CollabDataBunch.from_df(rating_movie,seed=30,valid_pct=0.1,item_name='title')"
      ],
      "execution_count": 0,
      "outputs": []
    },
    {
      "cell_type": "code",
      "metadata": {
        "id": "KHVMnHD9sY-N",
        "colab_type": "code",
        "outputId": "68854e8e-bc78-4fd6-b948-b78d5ec7aaa5",
        "colab": {
          "base_uri": "https://localhost:8080/",
          "height": 202
        }
      },
      "source": [
        "data.show_batch()"
      ],
      "execution_count": 55,
      "outputs": [
        {
          "output_type": "display_data",
          "data": {
            "text/html": [
              "<table border=\"1\" class=\"dataframe\">\n",
              "  <thead>\n",
              "    <tr style=\"text-align: right;\">\n",
              "      <th>user_id</th>\n",
              "      <th>title</th>\n",
              "      <th>target</th>\n",
              "    </tr>\n",
              "  </thead>\n",
              "  <tbody>\n",
              "    <tr>\n",
              "      <td>5</td>\n",
              "      <td>Aladdin and the King of Thieves (1996)</td>\n",
              "      <td>4.0</td>\n",
              "    </tr>\n",
              "    <tr>\n",
              "      <td>497</td>\n",
              "      <td>In the Army Now (1994)</td>\n",
              "      <td>1.0</td>\n",
              "    </tr>\n",
              "    <tr>\n",
              "      <td>723</td>\n",
              "      <td>Empire Strikes Back, The (1980)</td>\n",
              "      <td>4.0</td>\n",
              "    </tr>\n",
              "    <tr>\n",
              "      <td>437</td>\n",
              "      <td>Princess Bride, The (1987)</td>\n",
              "      <td>4.0</td>\n",
              "    </tr>\n",
              "    <tr>\n",
              "      <td>333</td>\n",
              "      <td>While You Were Sleeping (1995)</td>\n",
              "      <td>5.0</td>\n",
              "    </tr>\n",
              "  </tbody>\n",
              "</table>"
            ],
            "text/plain": [
              "<IPython.core.display.HTML object>"
            ]
          },
          "metadata": {
            "tags": []
          }
        }
      ]
    },
    {
      "cell_type": "code",
      "metadata": {
        "id": "2AMdhTE8sY06",
        "colab_type": "code",
        "colab": {}
      },
      "source": [
        "lrn=collab_learner(data,y_range=[0.,5.5],wd=1e-1,n_factors=35)"
      ],
      "execution_count": 0,
      "outputs": []
    },
    {
      "cell_type": "code",
      "metadata": {
        "id": "igVTocRuGOUM",
        "colab_type": "code",
        "outputId": "28abbc10-bbd5-4623-a82d-e9d63fffb509",
        "colab": {
          "base_uri": "https://localhost:8080/",
          "height": 112
        }
      },
      "source": [
        "lrn.lr_find()"
      ],
      "execution_count": 57,
      "outputs": [
        {
          "output_type": "display_data",
          "data": {
            "text/html": [
              "\n",
              "    <div>\n",
              "        <style>\n",
              "            /* Turns off some styling */\n",
              "            progress {\n",
              "                /* gets rid of default border in Firefox and Opera. */\n",
              "                border: none;\n",
              "                /* Needs to be in here for Safari polyfill so background images work as expected. */\n",
              "                background-size: auto;\n",
              "            }\n",
              "            .progress-bar-interrupted, .progress-bar-interrupted::-webkit-progress-bar {\n",
              "                background: #F44336;\n",
              "            }\n",
              "        </style>\n",
              "      <progress value='0' class='' max='1' style='width:300px; height:20px; vertical-align: middle;'></progress>\n",
              "      0.00% [0/1 00:00<00:00]\n",
              "    </div>\n",
              "    \n",
              "<table border=\"1\" class=\"dataframe\">\n",
              "  <thead>\n",
              "    <tr style=\"text-align: left;\">\n",
              "      <th>epoch</th>\n",
              "      <th>train_loss</th>\n",
              "      <th>valid_loss</th>\n",
              "      <th>time</th>\n",
              "    </tr>\n",
              "  </thead>\n",
              "  <tbody>\n",
              "  </tbody>\n",
              "</table><p>\n",
              "\n",
              "    <div>\n",
              "        <style>\n",
              "            /* Turns off some styling */\n",
              "            progress {\n",
              "                /* gets rid of default border in Firefox and Opera. */\n",
              "                border: none;\n",
              "                /* Needs to be in here for Safari polyfill so background images work as expected. */\n",
              "                background-size: auto;\n",
              "            }\n",
              "            .progress-bar-interrupted, .progress-bar-interrupted::-webkit-progress-bar {\n",
              "                background: #F44336;\n",
              "            }\n",
              "        </style>\n",
              "      <progress value='97' class='' max='1406' style='width:300px; height:20px; vertical-align: middle;'></progress>\n",
              "      6.90% [97/1406 00:01<00:16 2.8208]\n",
              "    </div>\n",
              "    "
            ],
            "text/plain": [
              "<IPython.core.display.HTML object>"
            ]
          },
          "metadata": {
            "tags": []
          }
        },
        {
          "output_type": "stream",
          "text": [
            "LR Finder is complete, type {learner_name}.recorder.plot() to see the graph.\n"
          ],
          "name": "stdout"
        }
      ]
    },
    {
      "cell_type": "code",
      "metadata": {
        "id": "ISTEOYP7w0d9",
        "colab_type": "code",
        "outputId": "a2b8720a-9e6f-44ed-98a6-3940d9710226",
        "colab": {
          "base_uri": "https://localhost:8080/",
          "height": 279
        }
      },
      "source": [
        "lrn.recorder.plot(skip_end=15)"
      ],
      "execution_count": 58,
      "outputs": [
        {
          "output_type": "display_data",
          "data": {
            "image/png": "[encoded data removed]",
            "text/plain": [
              "<Figure size 432x288 with 1 Axes>"
            ]
          },
          "metadata": {
            "tags": [],
            "needs_background": "light"
          }
        }
      ]
    },
    {
      "cell_type": "code",
      "metadata": {
        "id": "Ms9F_matw3WF",
        "colab_type": "code",
        "outputId": "791b5c86-31e1-4c86-b681-b324453b39a8",
        "colab": {
          "base_uri": "https://localhost:8080/",
          "height": 171
        }
      },
      "source": [
        "lrn.fit_one_cycle(4,2e-3)"
      ],
      "execution_count": 63,
      "outputs": [
        {
          "output_type": "display_data",
          "data": {
            "text/html": [
              "<table border=\"1\" class=\"dataframe\">\n",
              "  <thead>\n",
              "    <tr style=\"text-align: left;\">\n",
              "      <th>epoch</th>\n",
              "      <th>train_loss</th>\n",
              "      <th>valid_loss</th>\n",
              "      <th>time</th>\n",
              "    </tr>\n",
              "  </thead>\n",
              "  <tbody>\n",
              "    <tr>\n",
              "      <td>0</td>\n",
              "      <td>0.586910</td>\n",
              "      <td>0.778075</td>\n",
              "      <td>00:17</td>\n",
              "    </tr>\n",
              "    <tr>\n",
              "      <td>1</td>\n",
              "      <td>0.592732</td>\n",
              "      <td>0.777030</td>\n",
              "      <td>00:17</td>\n",
              "    </tr>\n",
              "    <tr>\n",
              "      <td>2</td>\n",
              "      <td>0.512686</td>\n",
              "      <td>0.777222</td>\n",
              "      <td>00:17</td>\n",
              "    </tr>\n",
              "    <tr>\n",
              "      <td>3</td>\n",
              "      <td>0.469248</td>\n",
              "      <td>0.778425</td>\n",
              "      <td>00:17</td>\n",
              "    </tr>\n",
              "  </tbody>\n",
              "</table>"
            ],
            "text/plain": [
              "<IPython.core.display.HTML object>"
            ]
          },
          "metadata": {
            "tags": []
          }
        }
      ]
    },
    {
      "cell_type": "code",
      "metadata": {
        "id": "l_XhI_2jxJ9V",
        "colab_type": "code",
        "colab": {}
      },
      "source": [
        "lrn.save('model-1')"
      ],
      "execution_count": 0,
      "outputs": []
    },
    {
      "cell_type": "code",
      "metadata": {
        "id": "py80s19T04pW",
        "colab_type": "code",
        "outputId": "75a2a780-7ce3-4615-afa4-783684f3b049",
        "colab": {
          "base_uri": "https://localhost:8080/",
          "height": 505
        }
      },
      "source": [
        "lrn.load('model-1')"
      ],
      "execution_count": 65,
      "outputs": [
        {
          "output_type": "execute_result",
          "data": {
            "text/plain": [
              "CollabLearner(data=TabularDataBunch;\n",
              "\n",
              "Train: LabelList (90000 items)\n",
              "x: CollabList\n",
              "user_id 196; title Kolya (1996); ,user_id 63; title Kolya (1996); ,user_id 226; title Kolya (1996); ,user_id 154; title Kolya (1996); ,user_id 306; title Kolya (1996); \n",
              "y: FloatList\n",
              "3.0,3.0,5.0,3.0,5.0\n",
              "Path: .;\n",
              "\n",
              "Valid: LabelList (10000 items)\n",
              "x: CollabList\n",
              "user_id 454; title Unforgiven (1992); ,user_id 598; title Saint, The (1997); ,user_id 396; title Independence Day (ID4) (1996); ,user_id 67; title High School High (1996); ,user_id 938; title Willy Wonka and the Chocolate Factory (1971); \n",
              "y: FloatList\n",
              "2.0,4.0,5.0,4.0,4.0\n",
              "Path: .;\n",
              "\n",
              "Test: None, model=EmbeddingDotBias(\n",
              "  (u_weight): Embedding(944, 35)\n",
              "  (i_weight): Embedding(1654, 35)\n",
              "  (u_bias): Embedding(944, 1)\n",
              "  (i_bias): Embedding(1654, 1)\n",
              "), opt_func=functools.partial(<class 'torch.optim.adam.Adam'>, betas=(0.9, 0.99)), loss_func=FlattenedLoss of MSELoss(), metrics=[], true_wd=True, bn_wd=True, wd=0.1, train_bn=True, path=PosixPath('.'), model_dir='models', callback_fns=[functools.partial(<class 'fastai.basic_train.Recorder'>, add_time=True, silent=False)], callbacks=[], layer_groups=[Sequential(\n",
              "  (0): Embedding(944, 35)\n",
              "  (1): Embedding(1654, 35)\n",
              "  (2): Embedding(944, 1)\n",
              "  (3): Embedding(1654, 1)\n",
              ")], add_time=True, silent=False)"
            ]
          },
          "metadata": {
            "tags": []
          },
          "execution_count": 65
        }
      ]
    },
    {
      "cell_type": "code",
      "metadata": {
        "id": "VFtKm0mvj_XD",
        "colab_type": "code",
        "colab": {}
      },
      "source": [
        "g=rating_movie.groupby('title')['rating'].count()"
      ],
      "execution_count": 0,
      "outputs": []
    },
    {
      "cell_type": "code",
      "metadata": {
        "id": "dNrRcavNCmaS",
        "colab_type": "code",
        "colab": {}
      },
      "source": [
        "top_movies=g.sort_values(ascending=False).index.values[:1000]"
      ],
      "execution_count": 0,
      "outputs": []
    },
    {
      "cell_type": "code",
      "metadata": {
        "id": "Yd1_vABCCoCE",
        "colab_type": "code",
        "colab": {}
      },
      "source": [
        "movie_bias=lrn.bias(top_movies,is_item=True)"
      ],
      "execution_count": 0,
      "outputs": []
    },
    {
      "cell_type": "code",
      "metadata": {
        "id": "X3f1AK2mDJBk",
        "colab_type": "code",
        "colab": {}
      },
      "source": [
        "mean_ratings=rating_movie.groupby('title').mean()"
      ],
      "execution_count": 0,
      "outputs": []
    },
    {
      "cell_type": "code",
      "metadata": {
        "id": "a4F2j-hEDI-N",
        "colab_type": "code",
        "colab": {}
      },
      "source": [
        "movie_ratings = [(b, i, mean_ratings.loc[i].rating) for i,b in zip(top_movies,movie_bias)]"
      ],
      "execution_count": 0,
      "outputs": []
    },
    {
      "cell_type": "code",
      "metadata": {
        "id": "fkvLlhejGYUr",
        "colab_type": "code",
        "colab": {
          "base_uri": "https://localhost:8080/",
          "height": 277
        },
        "outputId": "a93d4445-5b97-4c15-b82b-9b237b744985"
      },
      "source": [
        "sorted(movie_ratings,key=lambda x:x[0],reverse=True)[:15]"
      ],
      "execution_count": 71,
      "outputs": [
        {
          "output_type": "execute_result",
          "data": {
            "text/plain": [
              "[(tensor(0.5148), 'Titanic (1997)', 4.2457142857142856),\n",
              " (tensor(0.4800), 'Shawshank Redemption, The (1994)', 4.445229681978798),\n",
              " (tensor(0.4754), 'L.A. Confidential (1997)', 4.161616161616162),\n",
              " (tensor(0.4738), \"Schindler's List (1993)\", 4.466442953020135),\n",
              " (tensor(0.4647), 'Silence of the Lambs, The (1991)', 4.28974358974359),\n",
              " (tensor(0.4579), 'As Good As It Gets (1997)', 4.196428571428571),\n",
              " (tensor(0.4383), 'Rear Window (1954)', 4.3875598086124405),\n",
              " (tensor(0.4315), 'Usual Suspects, The (1995)', 4.385767790262173),\n",
              " (tensor(0.4297), 'To Kill a Mockingbird (1962)', 4.292237442922374),\n",
              " (tensor(0.4146), 'Wrong Trousers, The (1993)', 4.466101694915254),\n",
              " (tensor(0.4108), 'Close Shave, A (1995)', 4.491071428571429),\n",
              " (tensor(0.4104), 'Good Will Hunting (1997)', 4.262626262626263),\n",
              " (tensor(0.3986), 'Apt Pupil (1998)', 4.1),\n",
              " (tensor(0.3978), 'Vertigo (1958)', 4.251396648044692),\n",
              " (tensor(0.3909), 'Godfather, The (1972)', 4.283292978208232)]"
            ]
          },
          "metadata": {
            "tags": []
          },
          "execution_count": 71
        }
      ]
    },
    {
      "cell_type": "code",
      "metadata": {
        "id": "CzTrBEBtGYSX",
        "colab_type": "code",
        "colab": {
          "base_uri": "https://localhost:8080/",
          "height": 381
        },
        "outputId": "e1762f80-e2c6-4252-b399-5c8c3522e138"
      },
      "source": [
        "sorted(movie_ratings,key=lambda x:x[0])[:15]"
      ],
      "execution_count": 72,
      "outputs": [
        {
          "output_type": "execute_result",
          "data": {
            "text/plain": [
              "[(tensor(-0.4232),\n",
              "  'Children of the Corn: The Gathering (1996)',\n",
              "  1.3157894736842106),\n",
              " (tensor(-0.3264),\n",
              "  'Lawnmower Man 2: Beyond Cyberspace (1996)',\n",
              "  1.7142857142857142),\n",
              " (tensor(-0.2820), 'Barb Wire (1996)', 1.9333333333333333),\n",
              " (tensor(-0.2571), 'Cable Guy, The (1996)', 2.339622641509434),\n",
              " (tensor(-0.2532), 'Island of Dr. Moreau, The (1996)', 2.1578947368421053),\n",
              " (tensor(-0.2494), 'Crow: City of Angels, The (1996)', 1.9487179487179487),\n",
              " (tensor(-0.2239), \"McHale's Navy (1997)\", 2.1884057971014492),\n",
              " (tensor(-0.2215),\n",
              "  'Tales from the Crypt Presents: Bordello of Blood (1996)',\n",
              "  2.6363636363636362),\n",
              " (tensor(-0.2093), 'Bio-Dome (1996)', 1.903225806451613),\n",
              " (tensor(-0.2090), 'Free Willy 3: The Rescue (1997)', 1.7407407407407407),\n",
              " (tensor(-0.2090), 'Striptease (1996)', 2.2388059701492535),\n",
              " (tensor(-0.2063), 'Speed 2: Cruise Control (1997)', 2.1315789473684212),\n",
              " (tensor(-0.2013), \"Stephen King's The Langoliers (1995)\", 2.413793103448276),\n",
              " (tensor(-0.1993), 'Mortal Kombat: Annihilation (1997)', 1.9534883720930232),\n",
              " (tensor(-0.1993), 'Leave It to Beaver (1997)', 1.8409090909090908)]"
            ]
          },
          "metadata": {
            "tags": []
          },
          "execution_count": 72
        }
      ]
    },
    {
      "cell_type": "code",
      "metadata": {
        "id": "hZMSmTcHGYMW",
        "colab_type": "code",
        "colab": {
          "base_uri": "https://localhost:8080/",
          "height": 312
        },
        "outputId": "93769a6c-3d1d-4a72-c0b1-296062e0e1fa"
      },
      "source": [
        "sorted(movie_ratings,key=lambda x:x[0]+x[2],reverse=True)[:15]"
      ],
      "execution_count": 73,
      "outputs": [
        {
          "output_type": "execute_result",
          "data": {
            "text/plain": [
              "[(tensor(0.4738), \"Schindler's List (1993)\", 4.466442953020135),\n",
              " (tensor(0.4800), 'Shawshank Redemption, The (1994)', 4.445229681978798),\n",
              " (tensor(0.4108), 'Close Shave, A (1995)', 4.491071428571429),\n",
              " (tensor(0.4146), 'Wrong Trousers, The (1993)', 4.466101694915254),\n",
              " (tensor(0.3849), 'Casablanca (1942)', 4.45679012345679),\n",
              " (tensor(0.4383), 'Rear Window (1954)', 4.3875598086124405),\n",
              " (tensor(0.4315), 'Usual Suspects, The (1995)', 4.385767790262173),\n",
              " (tensor(0.3383),\n",
              "  'Wallace & Gromit: The Best of Aardman Animation (1996)',\n",
              "  4.447761194029851),\n",
              " (tensor(0.5148), 'Titanic (1997)', 4.2457142857142856),\n",
              " (tensor(0.4647), 'Silence of the Lambs, The (1991)', 4.28974358974359),\n",
              " (tensor(0.3860), 'Star Wars (1977)', 4.3584905660377355),\n",
              " (tensor(0.4297), 'To Kill a Mockingbird (1962)', 4.292237442922374),\n",
              " (tensor(0.3909), 'Godfather, The (1972)', 4.283292978208232),\n",
              " (tensor(0.4104), 'Good Will Hunting (1997)', 4.262626262626263),\n",
              " (tensor(0.3792), \"One Flew Over the Cuckoo's Nest (1975)\", 4.291666666666667)]"
            ]
          },
          "metadata": {
            "tags": []
          },
          "execution_count": 73
        }
      ]
    },
    {
      "cell_type": "code",
      "metadata": {
        "id": "AvkOq-hXODSb",
        "colab_type": "code",
        "colab": {}
      },
      "source": [
        "movie_w=lrn.weight(top_movies,is_item=True)"
      ],
      "execution_count": 0,
      "outputs": []
    },
    {
      "cell_type": "code",
      "metadata": {
        "id": "VzLrHGc3ODNP",
        "colab_type": "code",
        "colab": {
          "base_uri": "https://localhost:8080/",
          "height": 121
        },
        "outputId": "066500d7-dbba-4e1a-886a-1d541f31c042"
      },
      "source": [
        "print(movie_w.shape)\n",
        "movie_w[0]"
      ],
      "execution_count": 75,
      "outputs": [
        {
          "output_type": "stream",
          "text": [
            "torch.Size([1000, 35])\n"
          ],
          "name": "stdout"
        },
        {
          "output_type": "execute_result",
          "data": {
            "text/plain": [
              "tensor([ 0.0554,  0.6373,  0.5307,  0.4475,  0.1865,  0.0517,  0.5827, -0.3607,\n",
              "         0.4877, -0.1949, -0.4795, -0.3500,  0.5265,  0.0991,  0.4827, -0.4718,\n",
              "        -0.4654,  0.5206,  0.1854, -0.0220,  0.1230,  0.2888, -0.0620,  0.3631,\n",
              "        -0.7064,  0.0396,  0.4329,  0.3908,  0.3896, -0.4672,  0.0658, -0.2831,\n",
              "         0.0713, -0.4066,  0.1758])"
            ]
          },
          "metadata": {
            "tags": []
          },
          "execution_count": 75
        }
      ]
    },
    {
      "cell_type": "code",
      "metadata": {
        "id": "UwSjlT_JODEp",
        "colab_type": "code",
        "colab": {}
      },
      "source": [
        "movie_pca=movie_w.pca(3)"
      ],
      "execution_count": 0,
      "outputs": []
    },
    {
      "cell_type": "code",
      "metadata": {
        "id": "KLHhBXeXOC-O",
        "colab_type": "code",
        "colab": {
          "base_uri": "https://localhost:8080/",
          "height": 35
        },
        "outputId": "39bc335c-da7b-4858-8024-8f1b6c49f054"
      },
      "source": [
        "movie_pca.shape"
      ],
      "execution_count": 77,
      "outputs": [
        {
          "output_type": "execute_result",
          "data": {
            "text/plain": [
              "torch.Size([1000, 3])"
            ]
          },
          "metadata": {
            "tags": []
          },
          "execution_count": 77
        }
      ]
    },
    {
      "cell_type": "code",
      "metadata": {
        "id": "sJn1PTamdxvB",
        "colab_type": "code",
        "colab": {}
      },
      "source": [
        "f1,f2,f3=movie_pca.t()"
      ],
      "execution_count": 0,
      "outputs": []
    },
    {
      "cell_type": "code",
      "metadata": {
        "id": "gnq5PXeCR-Pg",
        "colab_type": "code",
        "colab": {
          "base_uri": "https://localhost:8080/",
          "height": 277
        },
        "outputId": "4fca2ef5-7b07-47d9-8bfa-3c8cf31fd04f"
      },
      "source": [
        "movie_comp=[(x,i) for x,i in zip(f1,top_movies)]\n",
        "sorted(movie_comp,key=lambda t:t[0],reverse=True)[:15]"
      ],
      "execution_count": 79,
      "outputs": [
        {
          "output_type": "execute_result",
          "data": {
            "text/plain": [
              "[(tensor(1.2644), 'Home Alone 3 (1997)'),\n",
              " (tensor(1.1407), \"McHale's Navy (1997)\"),\n",
              " (tensor(1.1265), 'Jungle2Jungle (1997)'),\n",
              " (tensor(1.1262), 'Leave It to Beaver (1997)'),\n",
              " (tensor(1.0994), 'Congo (1995)'),\n",
              " (tensor(1.0542), 'D3: The Mighty Ducks (1996)'),\n",
              " (tensor(1.0373), 'Mortal Kombat: Annihilation (1997)'),\n",
              " (tensor(1.0367), 'Free Willy 3: The Rescue (1997)'),\n",
              " (tensor(1.0183), 'Children of the Corn: The Gathering (1996)'),\n",
              " (tensor(0.9884), 'Striptease (1996)'),\n",
              " (tensor(0.9683), 'Batman & Robin (1997)'),\n",
              " (tensor(0.9379), 'Mouse Hunt (1997)'),\n",
              " (tensor(0.9187), 'Bio-Dome (1996)'),\n",
              " (tensor(0.9167), 'Grease 2 (1982)'),\n",
              " (tensor(0.9121), 'Beautician and the Beast, The (1997)')]"
            ]
          },
          "metadata": {
            "tags": []
          },
          "execution_count": 79
        }
      ]
    },
    {
      "cell_type": "code",
      "metadata": {
        "id": "AHc9IizfR_MG",
        "colab_type": "code",
        "colab": {
          "base_uri": "https://localhost:8080/",
          "height": 295
        },
        "outputId": "c068a357-75f6-4b82-eefd-b0be461119e0"
      },
      "source": [
        "movie_comp=[(x,i) for x,i in zip(f1,top_movies)]\n",
        "sorted(movie_comp,key=lambda t:t[0])[:15]"
      ],
      "execution_count": 80,
      "outputs": [
        {
          "output_type": "execute_result",
          "data": {
            "text/plain": [
              "[(tensor(-1.1360), 'Casablanca (1942)'),\n",
              " (tensor(-1.0891), 'Lawrence of Arabia (1962)'),\n",
              " (tensor(-1.0325), 'Secrets & Lies (1996)'),\n",
              " (tensor(-1.0135), 'Godfather, The (1972)'),\n",
              " (tensor(-1.0132), 'Close Shave, A (1995)'),\n",
              " (tensor(-0.9928), 'Chinatown (1974)'),\n",
              " (tensor(-0.9841),\n",
              "  'Dr. Strangelove or: How I Learned to Stop Worrying and Love the Bomb (1963)'),\n",
              " (tensor(-0.9332), \"One Flew Over the Cuckoo's Nest (1975)\"),\n",
              " (tensor(-0.9266), '12 Angry Men (1957)'),\n",
              " (tensor(-0.9157), 'Fargo (1996)'),\n",
              " (tensor(-0.9047), 'Third Man, The (1949)'),\n",
              " (tensor(-0.8945), 'Graduate, The (1967)'),\n",
              " (tensor(-0.8898), 'Star Wars (1977)'),\n",
              " (tensor(-0.8826), 'Clockwork Orange, A (1971)'),\n",
              " (tensor(-0.8806), 'Wrong Trousers, The (1993)')]"
            ]
          },
          "metadata": {
            "tags": []
          },
          "execution_count": 80
        }
      ]
    },
    {
      "cell_type": "code",
      "metadata": {
        "id": "t3SxTJECR_PH",
        "colab_type": "code",
        "colab": {
          "base_uri": "https://localhost:8080/",
          "height": 277
        },
        "outputId": "66b5256a-f883-4631-a8d2-c741ebbac765"
      },
      "source": [
        "movie_comp=[(x,i) for x,i in zip(f2,top_movies)]\n",
        "sorted(movie_comp,key=lambda t:t[0],reverse=True)[:15]"
      ],
      "execution_count": 81,
      "outputs": [
        {
          "output_type": "execute_result",
          "data": {
            "text/plain": [
              "[(tensor(0.8653), 'Trainspotting (1996)'),\n",
              " (tensor(0.8436), 'Brazil (1985)'),\n",
              " (tensor(0.7746), 'Sweet Hereafter, The (1997)'),\n",
              " (tensor(0.7712), 'Ready to Wear (Pret-A-Porter) (1994)'),\n",
              " (tensor(0.7708), 'Lost Highway (1997)'),\n",
              " (tensor(0.7662), 'Beavis and Butt-head Do America (1996)'),\n",
              " (tensor(0.7482), 'Nosferatu (Nosferatu, eine Symphonie des Grauens) (1922)'),\n",
              " (tensor(0.7387), 'Crumb (1994)'),\n",
              " (tensor(0.7267), 'Stuart Saves His Family (1995)'),\n",
              " (tensor(0.6984), 'Jude (1996)'),\n",
              " (tensor(0.6953), 'Clockwork Orange, A (1971)'),\n",
              " (tensor(0.6864), 'Cable Guy, The (1996)'),\n",
              " (tensor(0.6829), 'Heavenly Creatures (1994)'),\n",
              " (tensor(0.6807), 'Serial Mom (1994)'),\n",
              " (tensor(0.6782), 'Exotica (1994)')]"
            ]
          },
          "metadata": {
            "tags": []
          },
          "execution_count": 81
        }
      ]
    },
    {
      "cell_type": "code",
      "metadata": {
        "id": "Kj4V30AxR_YH",
        "colab_type": "code",
        "colab": {
          "base_uri": "https://localhost:8080/",
          "height": 277
        },
        "outputId": "a82101de-f907-430f-930c-1d72a5801802"
      },
      "source": [
        "movie_comp=[(x,i) for x,i in zip(f2,top_movies)]\n",
        "sorted(movie_comp,key=lambda t:t[0])[:15]"
      ],
      "execution_count": 82,
      "outputs": [
        {
          "output_type": "execute_result",
          "data": {
            "text/plain": [
              "[(tensor(-1.1479), 'Raiders of the Lost Ark (1981)'),\n",
              " (tensor(-1.1109), 'Titanic (1997)'),\n",
              " (tensor(-1.0632), 'Braveheart (1995)'),\n",
              " (tensor(-0.9262), 'Forrest Gump (1994)'),\n",
              " (tensor(-0.8812), 'Independence Day (ID4) (1996)'),\n",
              " (tensor(-0.8625), 'American President, The (1995)'),\n",
              " (tensor(-0.8512), 'Star Wars (1977)'),\n",
              " (tensor(-0.8197), 'Time to Kill, A (1996)'),\n",
              " (tensor(-0.8188), 'Sleepless in Seattle (1993)'),\n",
              " (tensor(-0.8105), 'Field of Dreams (1989)'),\n",
              " (tensor(-0.8010), 'Return of the Jedi (1983)'),\n",
              " (tensor(-0.7993), 'Back to the Future (1985)'),\n",
              " (tensor(-0.7893), 'Fugitive, The (1993)'),\n",
              " (tensor(-0.7827), \"Mr. Holland's Opus (1995)\"),\n",
              " (tensor(-0.7529), 'Jurassic Park (1993)')]"
            ]
          },
          "metadata": {
            "tags": []
          },
          "execution_count": 82
        }
      ]
    },
    {
      "cell_type": "code",
      "metadata": {
        "id": "68GhG8doR_bf",
        "colab_type": "code",
        "colab": {
          "base_uri": "https://localhost:8080/",
          "height": 277
        },
        "outputId": "d757cb97-20fa-4655-9acb-31e56c530b37"
      },
      "source": [
        "movie_comp=[(x,i) for x,i in zip(f3,top_movies)]\n",
        "sorted(movie_comp,key=lambda t:t[0],reverse=True)[:15]"
      ],
      "execution_count": 83,
      "outputs": [
        {
          "output_type": "execute_result",
          "data": {
            "text/plain": [
              "[(tensor(0.6946), 'English Patient, The (1996)'),\n",
              " (tensor(0.6749), 'Steel (1997)'),\n",
              " (tensor(0.6744), 'My Fair Lady (1964)'),\n",
              " (tensor(0.6601), 'Piano, The (1993)'),\n",
              " (tensor(0.6272), 'Evita (1996)'),\n",
              " (tensor(0.5859), 'Priest (1994)'),\n",
              " (tensor(0.5810), 'Dirty Dancing (1987)'),\n",
              " (tensor(0.5651), 'Crucible, The (1996)'),\n",
              " (tensor(0.5536), 'Room with a View, A (1986)'),\n",
              " (tensor(0.5483), \"Breakfast at Tiffany's (1961)\"),\n",
              " (tensor(0.5475), 'On Golden Pond (1981)'),\n",
              " (tensor(0.5426), 'Bridges of Madison County, The (1995)'),\n",
              " (tensor(0.5326), 'Postman, The (1997)'),\n",
              " (tensor(0.5146), 'Home for the Holidays (1995)'),\n",
              " (tensor(0.4998), 'Little Women (1994)')]"
            ]
          },
          "metadata": {
            "tags": []
          },
          "execution_count": 83
        }
      ]
    },
    {
      "cell_type": "code",
      "metadata": {
        "id": "LYDXXq7FR_Vo",
        "colab_type": "code",
        "colab": {
          "base_uri": "https://localhost:8080/",
          "height": 277
        },
        "outputId": "edcd1a38-44fa-4659-cf6f-9f2f3628dceb"
      },
      "source": [
        "movie_comp=[(x,i) for x,i in zip(f3,top_movies)]\n",
        "sorted(movie_comp,key=lambda t:t[0])[:15]"
      ],
      "execution_count": 84,
      "outputs": [
        {
          "output_type": "execute_result",
          "data": {
            "text/plain": [
              "[(tensor(-0.9904), 'Terminator, The (1984)'),\n",
              " (tensor(-0.9140), 'Pulp Fiction (1994)'),\n",
              " (tensor(-0.9021), 'Beavis and Butt-head Do America (1996)'),\n",
              " (tensor(-0.8293), 'Terminator 2: Judgment Day (1991)'),\n",
              " (tensor(-0.8016), 'Fifth Element, The (1997)'),\n",
              " (tensor(-0.7808), 'Army of Darkness (1993)'),\n",
              " (tensor(-0.7551), 'Star Wars (1977)'),\n",
              " (tensor(-0.7540), 'Scream (1996)'),\n",
              " (tensor(-0.7175), 'Empire Strikes Back, The (1980)'),\n",
              " (tensor(-0.6967), 'Event Horizon (1997)'),\n",
              " (tensor(-0.6958), 'Seven (Se7en) (1995)'),\n",
              " (tensor(-0.6948), 'Happy Gilmore (1996)'),\n",
              " (tensor(-0.6680), 'GoodFellas (1990)'),\n",
              " (tensor(-0.6520), 'Usual Suspects, The (1995)'),\n",
              " (tensor(-0.6427), 'Nightmare on Elm Street, A (1984)')]"
            ]
          },
          "metadata": {
            "tags": []
          },
          "execution_count": 84
        }
      ]
    },
    {
      "cell_type": "code",
      "metadata": {
        "id": "wNvu6qTblRp6",
        "colab_type": "code",
        "colab": {
          "base_uri": "https://localhost:8080/",
          "height": 72
        },
        "outputId": "233b6120-70e9-4133-ed1d-4885a09ce751"
      },
      "source": [
        "import seaborn as sns"
      ],
      "execution_count": 85,
      "outputs": [
        {
          "output_type": "stream",
          "text": [
            "/usr/local/lib/python3.6/dist-packages/statsmodels/tools/_testing.py:19: FutureWarning: pandas.util.testing is deprecated. Use the functions in the public API at pandas.testing instead.\n",
            "  import pandas.util.testing as tm\n"
          ],
          "name": "stderr"
        }
      ]
    },
    {
      "cell_type": "code",
      "metadata": {
        "id": "NEYdTxaiR_SZ",
        "colab_type": "code",
        "colab": {
          "base_uri": "https://localhost:8080/",
          "height": 1000
        },
        "outputId": "8ef1f0f1-db1c-4d2a-a9f7-d98f093a9586"
      },
      "source": [
        "# idxs = np.random.choice(len(top_movies), 50, replace=False)\n",
        "idxs = list(range(35))\n",
        "X = f1[idxs]\n",
        "Y = f3[idxs]\n",
        "plt.figure(figsize=(18,18))\n",
        "sns.scatterplot(X, Y)\n",
        "for i, x, y in zip(top_movies[idxs], X, Y):\n",
        "     plt.text(x,y,i, color=np.random.rand(3)*0.7, fontsize=12)\n",
        "plt.show()"
      ],
      "execution_count": 99,
      "outputs": [
        {
          "output_type": "display_data",
          "data": {
            "image/png": "[encoded data removed]",
            "text/plain": [
              "<Figure size 1296x1296 with 1 Axes>"
            ]
          },
          "metadata": {
            "tags": [],
            "needs_background": "light"
          }
        }
      ]
    },
    {
      "cell_type": "code",
      "metadata": {
        "id": "q5Y7JFz2Eula",
        "colab_type": "code",
        "colab": {}
      },
      "source": [
        "x=zip(f1,top_movies)\n",
        "f1_lst=[(b,a) for a,b in x]"
      ],
      "execution_count": 0,
      "outputs": []
    },
    {
      "cell_type": "code",
      "metadata": {
        "id": "-CgLLLrEHOv6",
        "colab_type": "code",
        "colab": {}
      },
      "source": [
        "f1_df=pd.DataFrame(f1_lst,columns=['title','weight'])"
      ],
      "execution_count": 0,
      "outputs": []
    },
    {
      "cell_type": "code",
      "metadata": {
        "id": "caNe9gJOH3Zp",
        "colab_type": "code",
        "colab": {
          "base_uri": "https://localhost:8080/",
          "height": 202
        },
        "outputId": "dea78fce-850d-418f-ec8a-dbe82fa5dc2c"
      },
      "source": [
        "f1_df.head()"
      ],
      "execution_count": 89,
      "outputs": [
        {
          "output_type": "execute_result",
          "data": {
            "text/html": [
              "<div>\n",
              "<style scoped>\n",
              "    .dataframe tbody tr th:only-of-type {\n",
              "        vertical-align: middle;\n",
              "    }\n",
              "\n",
              "    .dataframe tbody tr th {\n",
              "        vertical-align: top;\n",
              "    }\n",
              "\n",
              "    .dataframe thead th {\n",
              "        text-align: right;\n",
              "    }\n",
              "</style>\n",
              "<table border=\"1\" class=\"dataframe\">\n",
              "  <thead>\n",
              "    <tr style=\"text-align: right;\">\n",
              "      <th></th>\n",
              "      <th>title</th>\n",
              "      <th>weight</th>\n",
              "    </tr>\n",
              "  </thead>\n",
              "  <tbody>\n",
              "    <tr>\n",
              "      <th>0</th>\n",
              "      <td>Star Wars (1977)</td>\n",
              "      <td>tensor(-0.8898)</td>\n",
              "    </tr>\n",
              "    <tr>\n",
              "      <th>1</th>\n",
              "      <td>Contact (1997)</td>\n",
              "      <td>tensor(-0.1450)</td>\n",
              "    </tr>\n",
              "    <tr>\n",
              "      <th>2</th>\n",
              "      <td>Fargo (1996)</td>\n",
              "      <td>tensor(-0.9157)</td>\n",
              "    </tr>\n",
              "    <tr>\n",
              "      <th>3</th>\n",
              "      <td>Return of the Jedi (1983)</td>\n",
              "      <td>tensor(-0.2995)</td>\n",
              "    </tr>\n",
              "    <tr>\n",
              "      <th>4</th>\n",
              "      <td>Liar Liar (1997)</td>\n",
              "      <td>tensor(0.5355)</td>\n",
              "    </tr>\n",
              "  </tbody>\n",
              "</table>\n",
              "</div>"
            ],
            "text/plain": [
              "                       title           weight\n",
              "0           Star Wars (1977)  tensor(-0.8898)\n",
              "1             Contact (1997)  tensor(-0.1450)\n",
              "2               Fargo (1996)  tensor(-0.9157)\n",
              "3  Return of the Jedi (1983)  tensor(-0.2995)\n",
              "4           Liar Liar (1997)   tensor(0.5355)"
            ]
          },
          "metadata": {
            "tags": []
          },
          "execution_count": 89
        }
      ]
    },
    {
      "cell_type": "code",
      "metadata": {
        "id": "zUDwzPahI51Y",
        "colab_type": "code",
        "colab": {}
      },
      "source": [
        "f1_df=f1_df.sort_values(by='weight')"
      ],
      "execution_count": 0,
      "outputs": []
    },
    {
      "cell_type": "code",
      "metadata": {
        "id": "Tw6qJZh4I6Av",
        "colab_type": "code",
        "colab": {
          "base_uri": "https://localhost:8080/",
          "height": 202
        },
        "outputId": "936841cb-e82d-4d38-e5db-5333700c82fe"
      },
      "source": [
        "f1_df.head()"
      ],
      "execution_count": 92,
      "outputs": [
        {
          "output_type": "execute_result",
          "data": {
            "text/html": [
              "<div>\n",
              "<style scoped>\n",
              "    .dataframe tbody tr th:only-of-type {\n",
              "        vertical-align: middle;\n",
              "    }\n",
              "\n",
              "    .dataframe tbody tr th {\n",
              "        vertical-align: top;\n",
              "    }\n",
              "\n",
              "    .dataframe thead th {\n",
              "        text-align: right;\n",
              "    }\n",
              "</style>\n",
              "<table border=\"1\" class=\"dataframe\">\n",
              "  <thead>\n",
              "    <tr style=\"text-align: right;\">\n",
              "      <th></th>\n",
              "      <th>title</th>\n",
              "      <th>weight</th>\n",
              "    </tr>\n",
              "  </thead>\n",
              "  <tbody>\n",
              "    <tr>\n",
              "      <th>74</th>\n",
              "      <td>Casablanca (1942)</td>\n",
              "      <td>tensor(-1.1360)</td>\n",
              "    </tr>\n",
              "    <tr>\n",
              "      <th>156</th>\n",
              "      <td>Lawrence of Arabia (1962)</td>\n",
              "      <td>tensor(-1.0891)</td>\n",
              "    </tr>\n",
              "    <tr>\n",
              "      <th>180</th>\n",
              "      <td>Secrets &amp; Lies (1996)</td>\n",
              "      <td>tensor(-1.0325)</td>\n",
              "    </tr>\n",
              "    <tr>\n",
              "      <th>11</th>\n",
              "      <td>Godfather, The (1972)</td>\n",
              "      <td>tensor(-1.0135)</td>\n",
              "    </tr>\n",
              "    <tr>\n",
              "      <th>304</th>\n",
              "      <td>Close Shave, A (1995)</td>\n",
              "      <td>tensor(-1.0132)</td>\n",
              "    </tr>\n",
              "  </tbody>\n",
              "</table>\n",
              "</div>"
            ],
            "text/plain": [
              "                         title           weight\n",
              "74           Casablanca (1942)  tensor(-1.1360)\n",
              "156  Lawrence of Arabia (1962)  tensor(-1.0891)\n",
              "180      Secrets & Lies (1996)  tensor(-1.0325)\n",
              "11       Godfather, The (1972)  tensor(-1.0135)\n",
              "304      Close Shave, A (1995)  tensor(-1.0132)"
            ]
          },
          "metadata": {
            "tags": []
          },
          "execution_count": 92
        }
      ]
    },
    {
      "cell_type": "code",
      "metadata": {
        "id": "8b8KbboBdxWP",
        "colab_type": "code",
        "colab": {
          "base_uri": "https://localhost:8080/",
          "height": 1000
        },
        "outputId": "12b386ec-9cca-43a7-daa5-8550a2f6316f"
      },
      "source": [
        "idxs = list(range(35))\n",
        "X = f1[idxs]\n",
        "Y = f2[idxs]\n",
        "plt.figure(figsize=(18,18))\n",
        "sns.scatterplot(X, Y)\n",
        "for i, x, y in zip(top_movies[idxs], X, Y):\n",
        "     plt.text(x,y,i, color=np.random.rand(3)*0.7, fontsize=12)\n",
        "plt.show()"
      ],
      "execution_count": 100,
      "outputs": [
        {
          "output_type": "display_data",
          "data": {
            "image/png": "[encoded data removed]",
            "text/plain": [
              "<Figure size 1296x1296 with 1 Axes>"
            ]
          },
          "metadata": {
            "tags": [],
            "needs_background": "light"
          }
        }
      ]
    },
    {
      "cell_type": "code",
      "metadata": {
        "id": "WuF3VUWEeunk",
        "colab_type": "code",
        "colab": {}
      },
      "source": [
        ""
      ],
      "execution_count": 0,
      "outputs": []
    }
  ]
}