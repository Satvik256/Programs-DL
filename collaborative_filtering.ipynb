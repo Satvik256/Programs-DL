{
  "nbformat": 4,
  "nbformat_minor": 0,
  "metadata": {
    "colab": {
      "name": "collab.ipynb",
      "provenance": [],
      "collapsed_sections": [],
      "authorship_tag": "ABX9TyNtrDTammZI8LM3qQsJU7La",
      "include_colab_link": true
    },
    "kernelspec": {
      "name": "python3",
      "display_name": "Python 3"
    },
    "accelerator": "GPU"
  },
  "cells": [
    {
      "cell_type": "markdown",
      "metadata": {
        "id": "view-in-github",
        "colab_type": "text"
      },
      "source": [
        "<a href=\"https://colab.research.google.com/github/Satvik256/TestRepo/blob/master/collaborative_filtering.ipynb\" target=\"_parent\"><img src=\"https://colab.research.google.com/assets/colab-badge.svg\" alt=\"Open In Colab\"/></a>"
      ]
    },
    {
      "cell_type": "code",
      "metadata": {
        "id": "-ofeHrMP7g4s",
        "colab_type": "code",
        "colab": {}
      },
      "source": [
        "from fastai.collab import *\n",
        "from fastai.tabular import *"
      ],
      "execution_count": 0,
      "outputs": []
    },
    {
      "cell_type": "code",
      "metadata": {
        "id": "BxYjdHoC8daf",
        "colab_type": "code",
        "outputId": "0e19d46e-f537-409e-d673-411ed13e0315",
        "colab": {
          "base_uri": "https://localhost:8080/",
          "height": 208
        }
      },
      "source": [
        "!wget http://files.grouplens.org/datasets/movielens/ml-100k.zip"
      ],
      "execution_count": 0,
      "outputs": [
        {
          "output_type": "stream",
          "text": [
            "--2020-05-29 18:29:35--  http://files.grouplens.org/datasets/movielens/ml-100k.zip\n",
            "Resolving files.grouplens.org (files.grouplens.org)... 128.101.65.152\n",
            "Connecting to files.grouplens.org (files.grouplens.org)|128.101.65.152|:80... connected.\n",
            "HTTP request sent, awaiting response... 200 OK\n",
            "Length: 4924029 (4.7M) [application/zip]\n",
            "Saving to: ‘ml-100k.zip’\n",
            "\n",
            "ml-100k.zip         100%[===================>]   4.70M  2.99MB/s    in 1.6s    \n",
            "\n",
            "2020-05-29 18:29:37 (2.99 MB/s) - ‘ml-100k.zip’ saved [4924029/4924029]\n",
            "\n"
          ],
          "name": "stdout"
        }
      ]
    },
    {
      "cell_type": "code",
      "metadata": {
        "id": "v2riCnja8gez",
        "colab_type": "code",
        "outputId": "ee88ae4b-4662-40cf-f0f7-34e815def192",
        "colab": {
          "base_uri": "https://localhost:8080/",
          "height": 451
        }
      },
      "source": [
        "!unzip /content/ml-100k"
      ],
      "execution_count": 0,
      "outputs": [
        {
          "output_type": "stream",
          "text": [
            "Archive:  /content/ml-100k.zip\n",
            "   creating: ml-100k/\n",
            "  inflating: ml-100k/allbut.pl       \n",
            "  inflating: ml-100k/mku.sh          \n",
            "  inflating: ml-100k/README          \n",
            "  inflating: ml-100k/u.data          \n",
            "  inflating: ml-100k/u.genre         \n",
            "  inflating: ml-100k/u.info          \n",
            "  inflating: ml-100k/u.item          \n",
            "  inflating: ml-100k/u.occupation    \n",
            "  inflating: ml-100k/u.user          \n",
            "  inflating: ml-100k/u1.base         \n",
            "  inflating: ml-100k/u1.test         \n",
            "  inflating: ml-100k/u2.base         \n",
            "  inflating: ml-100k/u2.test         \n",
            "  inflating: ml-100k/u3.base         \n",
            "  inflating: ml-100k/u3.test         \n",
            "  inflating: ml-100k/u4.base         \n",
            "  inflating: ml-100k/u4.test         \n",
            "  inflating: ml-100k/u5.base         \n",
            "  inflating: ml-100k/u5.test         \n",
            "  inflating: ml-100k/ua.base         \n",
            "  inflating: ml-100k/ua.test         \n",
            "  inflating: ml-100k/ub.base         \n",
            "  inflating: ml-100k/ub.test         \n"
          ],
          "name": "stdout"
        }
      ]
    },
    {
      "cell_type": "code",
      "metadata": {
        "id": "KdeScpNy8tnw",
        "colab_type": "code",
        "colab": {}
      },
      "source": [
        "path=Path('/content/ml-100k')"
      ],
      "execution_count": 0,
      "outputs": []
    },
    {
      "cell_type": "code",
      "metadata": {
        "id": "yWfdtSZY9Dnr",
        "colab_type": "code",
        "colab": {}
      },
      "source": [
        "ratings = pd.read_csv(path/'u.data', delimiter='\\t', header=None,names=['user_id','movie_id','rating','timestamp'])                     "
      ],
      "execution_count": 0,
      "outputs": []
    },
    {
      "cell_type": "code",
      "metadata": {
        "id": "geVWWdyk9PRp",
        "colab_type": "code",
        "outputId": "403f7bb7-0fbf-4a0e-a777-a49a86219ba9",
        "colab": {
          "base_uri": "https://localhost:8080/",
          "height": 202
        }
      },
      "source": [
        "ratings.head()"
      ],
      "execution_count": 0,
      "outputs": [
        {
          "output_type": "execute_result",
          "data": {
            "text/html": [
              "<div>\n",
              "<style scoped>\n",
              "    .dataframe tbody tr th:only-of-type {\n",
              "        vertical-align: middle;\n",
              "    }\n",
              "\n",
              "    .dataframe tbody tr th {\n",
              "        vertical-align: top;\n",
              "    }\n",
              "\n",
              "    .dataframe thead th {\n",
              "        text-align: right;\n",
              "    }\n",
              "</style>\n",
              "<table border=\"1\" class=\"dataframe\">\n",
              "  <thead>\n",
              "    <tr style=\"text-align: right;\">\n",
              "      <th></th>\n",
              "      <th>user_id</th>\n",
              "      <th>movie_id</th>\n",
              "      <th>rating</th>\n",
              "      <th>timestamp</th>\n",
              "    </tr>\n",
              "  </thead>\n",
              "  <tbody>\n",
              "    <tr>\n",
              "      <th>0</th>\n",
              "      <td>196</td>\n",
              "      <td>242</td>\n",
              "      <td>3</td>\n",
              "      <td>881250949</td>\n",
              "    </tr>\n",
              "    <tr>\n",
              "      <th>1</th>\n",
              "      <td>186</td>\n",
              "      <td>302</td>\n",
              "      <td>3</td>\n",
              "      <td>891717742</td>\n",
              "    </tr>\n",
              "    <tr>\n",
              "      <th>2</th>\n",
              "      <td>22</td>\n",
              "      <td>377</td>\n",
              "      <td>1</td>\n",
              "      <td>878887116</td>\n",
              "    </tr>\n",
              "    <tr>\n",
              "      <th>3</th>\n",
              "      <td>244</td>\n",
              "      <td>51</td>\n",
              "      <td>2</td>\n",
              "      <td>880606923</td>\n",
              "    </tr>\n",
              "    <tr>\n",
              "      <th>4</th>\n",
              "      <td>166</td>\n",
              "      <td>346</td>\n",
              "      <td>1</td>\n",
              "      <td>886397596</td>\n",
              "    </tr>\n",
              "  </tbody>\n",
              "</table>\n",
              "</div>"
            ],
            "text/plain": [
              "   user_id  movie_id  rating  timestamp\n",
              "0      196       242       3  881250949\n",
              "1      186       302       3  891717742\n",
              "2       22       377       1  878887116\n",
              "3      244        51       2  880606923\n",
              "4      166       346       1  886397596"
            ]
          },
          "metadata": {
            "tags": []
          },
          "execution_count": 7
        }
      ]
    },
    {
      "cell_type": "code",
      "metadata": {
        "id": "pLqZmUOL9QOp",
        "colab_type": "code",
        "outputId": "dbb0d3f1-2460-4baf-e84c-34298a29a5c5",
        "colab": {
          "base_uri": "https://localhost:8080/",
          "height": 375
        }
      },
      "source": [
        "movies = pd.read_csv(path/'u.item',  delimiter='|', encoding='latin-1', header=None,\n",
        "                    names=['movie_id', 'title', 'date', 'N', 'url',*[f'g{i}' for i in range(19)]])\n",
        "movies.head()"
      ],
      "execution_count": 0,
      "outputs": [
        {
          "output_type": "execute_result",
          "data": {
            "text/html": [
              "<div>\n",
              "<style scoped>\n",
              "    .dataframe tbody tr th:only-of-type {\n",
              "        vertical-align: middle;\n",
              "    }\n",
              "\n",
              "    .dataframe tbody tr th {\n",
              "        vertical-align: top;\n",
              "    }\n",
              "\n",
              "    .dataframe thead th {\n",
              "        text-align: right;\n",
              "    }\n",
              "</style>\n",
              "<table border=\"1\" class=\"dataframe\">\n",
              "  <thead>\n",
              "    <tr style=\"text-align: right;\">\n",
              "      <th></th>\n",
              "      <th>movie_id</th>\n",
              "      <th>title</th>\n",
              "      <th>date</th>\n",
              "      <th>N</th>\n",
              "      <th>url</th>\n",
              "      <th>g0</th>\n",
              "      <th>g1</th>\n",
              "      <th>g2</th>\n",
              "      <th>g3</th>\n",
              "      <th>g4</th>\n",
              "      <th>g5</th>\n",
              "      <th>g6</th>\n",
              "      <th>g7</th>\n",
              "      <th>g8</th>\n",
              "      <th>g9</th>\n",
              "      <th>g10</th>\n",
              "      <th>g11</th>\n",
              "      <th>g12</th>\n",
              "      <th>g13</th>\n",
              "      <th>g14</th>\n",
              "      <th>g15</th>\n",
              "      <th>g16</th>\n",
              "      <th>g17</th>\n",
              "      <th>g18</th>\n",
              "    </tr>\n",
              "  </thead>\n",
              "  <tbody>\n",
              "    <tr>\n",
              "      <th>0</th>\n",
              "      <td>1</td>\n",
              "      <td>Toy Story (1995)</td>\n",
              "      <td>01-Jan-1995</td>\n",
              "      <td>NaN</td>\n",
              "      <td>http://us.imdb.com/M/title-exact?Toy%20Story%2...</td>\n",
              "      <td>0</td>\n",
              "      <td>0</td>\n",
              "      <td>0</td>\n",
              "      <td>1</td>\n",
              "      <td>1</td>\n",
              "      <td>1</td>\n",
              "      <td>0</td>\n",
              "      <td>0</td>\n",
              "      <td>0</td>\n",
              "      <td>0</td>\n",
              "      <td>0</td>\n",
              "      <td>0</td>\n",
              "      <td>0</td>\n",
              "      <td>0</td>\n",
              "      <td>0</td>\n",
              "      <td>0</td>\n",
              "      <td>0</td>\n",
              "      <td>0</td>\n",
              "      <td>0</td>\n",
              "    </tr>\n",
              "    <tr>\n",
              "      <th>1</th>\n",
              "      <td>2</td>\n",
              "      <td>GoldenEye (1995)</td>\n",
              "      <td>01-Jan-1995</td>\n",
              "      <td>NaN</td>\n",
              "      <td>http://us.imdb.com/M/title-exact?GoldenEye%20(...</td>\n",
              "      <td>0</td>\n",
              "      <td>1</td>\n",
              "      <td>1</td>\n",
              "      <td>0</td>\n",
              "      <td>0</td>\n",
              "      <td>0</td>\n",
              "      <td>0</td>\n",
              "      <td>0</td>\n",
              "      <td>0</td>\n",
              "      <td>0</td>\n",
              "      <td>0</td>\n",
              "      <td>0</td>\n",
              "      <td>0</td>\n",
              "      <td>0</td>\n",
              "      <td>0</td>\n",
              "      <td>0</td>\n",
              "      <td>1</td>\n",
              "      <td>0</td>\n",
              "      <td>0</td>\n",
              "    </tr>\n",
              "    <tr>\n",
              "      <th>2</th>\n",
              "      <td>3</td>\n",
              "      <td>Four Rooms (1995)</td>\n",
              "      <td>01-Jan-1995</td>\n",
              "      <td>NaN</td>\n",
              "      <td>http://us.imdb.com/M/title-exact?Four%20Rooms%...</td>\n",
              "      <td>0</td>\n",
              "      <td>0</td>\n",
              "      <td>0</td>\n",
              "      <td>0</td>\n",
              "      <td>0</td>\n",
              "      <td>0</td>\n",
              "      <td>0</td>\n",
              "      <td>0</td>\n",
              "      <td>0</td>\n",
              "      <td>0</td>\n",
              "      <td>0</td>\n",
              "      <td>0</td>\n",
              "      <td>0</td>\n",
              "      <td>0</td>\n",
              "      <td>0</td>\n",
              "      <td>0</td>\n",
              "      <td>1</td>\n",
              "      <td>0</td>\n",
              "      <td>0</td>\n",
              "    </tr>\n",
              "    <tr>\n",
              "      <th>3</th>\n",
              "      <td>4</td>\n",
              "      <td>Get Shorty (1995)</td>\n",
              "      <td>01-Jan-1995</td>\n",
              "      <td>NaN</td>\n",
              "      <td>http://us.imdb.com/M/title-exact?Get%20Shorty%...</td>\n",
              "      <td>0</td>\n",
              "      <td>1</td>\n",
              "      <td>0</td>\n",
              "      <td>0</td>\n",
              "      <td>0</td>\n",
              "      <td>1</td>\n",
              "      <td>0</td>\n",
              "      <td>0</td>\n",
              "      <td>1</td>\n",
              "      <td>0</td>\n",
              "      <td>0</td>\n",
              "      <td>0</td>\n",
              "      <td>0</td>\n",
              "      <td>0</td>\n",
              "      <td>0</td>\n",
              "      <td>0</td>\n",
              "      <td>0</td>\n",
              "      <td>0</td>\n",
              "      <td>0</td>\n",
              "    </tr>\n",
              "    <tr>\n",
              "      <th>4</th>\n",
              "      <td>5</td>\n",
              "      <td>Copycat (1995)</td>\n",
              "      <td>01-Jan-1995</td>\n",
              "      <td>NaN</td>\n",
              "      <td>http://us.imdb.com/M/title-exact?Copycat%20(1995)</td>\n",
              "      <td>0</td>\n",
              "      <td>0</td>\n",
              "      <td>0</td>\n",
              "      <td>0</td>\n",
              "      <td>0</td>\n",
              "      <td>0</td>\n",
              "      <td>1</td>\n",
              "      <td>0</td>\n",
              "      <td>1</td>\n",
              "      <td>0</td>\n",
              "      <td>0</td>\n",
              "      <td>0</td>\n",
              "      <td>0</td>\n",
              "      <td>0</td>\n",
              "      <td>0</td>\n",
              "      <td>0</td>\n",
              "      <td>1</td>\n",
              "      <td>0</td>\n",
              "      <td>0</td>\n",
              "    </tr>\n",
              "  </tbody>\n",
              "</table>\n",
              "</div>"
            ],
            "text/plain": [
              "   movie_id              title         date   N  ... g15  g16  g17  g18\n",
              "0         1   Toy Story (1995)  01-Jan-1995 NaN  ...   0    0    0    0\n",
              "1         2   GoldenEye (1995)  01-Jan-1995 NaN  ...   0    1    0    0\n",
              "2         3  Four Rooms (1995)  01-Jan-1995 NaN  ...   0    1    0    0\n",
              "3         4  Get Shorty (1995)  01-Jan-1995 NaN  ...   0    0    0    0\n",
              "4         5     Copycat (1995)  01-Jan-1995 NaN  ...   0    1    0    0\n",
              "\n",
              "[5 rows x 24 columns]"
            ]
          },
          "metadata": {
            "tags": []
          },
          "execution_count": 8
        }
      ]
    },
    {
      "cell_type": "code",
      "metadata": {
        "id": "r1NvTkcX-0EW",
        "colab_type": "code",
        "outputId": "dc56e2a2-51d4-4a21-ad0c-a8599d872efc",
        "colab": {
          "base_uri": "https://localhost:8080/",
          "height": 1000
        }
      },
      "source": [
        "doc(pd.merge)"
      ],
      "execution_count": 0,
      "outputs": [
        {
          "output_type": "display_data",
          "data": {
            "text/html": [
              "<h4 id=\"merge\" class=\"doc_header\"><code>merge</code><a class=\"source_link\" data-toggle=\"collapse\" data-target=\"#merge-pytest\" style=\"float:right; padding-right:10px\">[test]</a></h4><blockquote><p><code>merge</code>(<strong><code>left</code></strong>, <strong><code>right</code></strong>, <strong><code>how</code></strong>:<code>str</code>=<strong><em><code>'inner'</code></em></strong>, <strong><code>on</code></strong>=<strong><em><code>None</code></em></strong>, <strong><code>left_on</code></strong>=<strong><em><code>None</code></em></strong>, <strong><code>right_on</code></strong>=<strong><em><code>None</code></em></strong>, <strong><code>left_index</code></strong>:<code>bool</code>=<strong><em><code>False</code></em></strong>, <strong><code>right_index</code></strong>:<code>bool</code>=<strong><em><code>False</code></em></strong>, <strong><code>sort</code></strong>:<code>bool</code>=<strong><em><code>False</code></em></strong>, <strong><code>suffixes</code></strong>=<strong><em><code>('_x', '_y')</code></em></strong>, <strong><code>copy</code></strong>:<code>bool</code>=<strong><em><code>True</code></em></strong>, <strong><code>indicator</code></strong>:<code>bool</code>=<strong><em><code>False</code></em></strong>, <strong><code>validate</code></strong>=<strong><em><code>None</code></em></strong>) → <code>DataFrame</code></p>\n",
              "</blockquote>\n",
              "<div class=\"collapse\" id=\"merge-pytest\"><div class=\"card card-body pytest_card\"><a type=\"button\" data-toggle=\"collapse\" data-target=\"#merge-pytest\" class=\"close\" aria-label=\"Close\"><span aria-hidden=\"true\">&times;</span></a><p>No tests found for <code>merge</code>. To contribute a test please refer to <a href=\"/dev/test.html\">this guide</a> and <a href=\"https://forums.fast.ai/t/improving-expanding-functional-tests/32929\">this discussion</a>.</p></div></div><p>Merge DataFrame or named Series objects with a database-style join. The join is done on columns or indexes. If joining columns on\n",
              "columns, the DataFrame indexes <em>will be ignored</em>. Otherwise if joining indexes\n",
              "on indexes or indexes on a column or columns, the index will be passed on.</p>\n",
              "<h2 id=\"Parameters\">Parameters<a class=\"anchor-link\" href=\"#Parameters\">&#182;</a></h2><p>left : DataFrame\n",
              "right : DataFrame or named Series\n",
              "    Object to merge with.\n",
              "how : {'left', 'right', 'outer', 'inner'}, default 'inner'\n",
              "    Type of merge to be performed.</p>\n",
              "\n",
              "<pre><code>* left: use only keys from left frame, similar to a SQL left outer join;\n",
              "  preserve key order.\n",
              "* right: use only keys from right frame, similar to a SQL right outer join;\n",
              "  preserve key order.\n",
              "* outer: use union of keys from both frames, similar to a SQL full outer\n",
              "  join; sort keys lexicographically.\n",
              "* inner: use intersection of keys from both frames, similar to a SQL inner\n",
              "  join; preserve the order of the left keys.\n",
              "</code></pre>\n",
              "<p>on : label or list\n",
              "    Column or index level names to join on. These must be found in both\n",
              "    DataFrames. If <code>on</code> is None and not merging on indexes then this defaults\n",
              "    to the intersection of the columns in both DataFrames.\n",
              "left_on : label or list, or array-like\n",
              "    Column or index level names to join on in the left DataFrame. Can also\n",
              "    be an array or list of arrays of the length of the left DataFrame.\n",
              "    These arrays are treated as if they are columns.\n",
              "right_on : label or list, or array-like\n",
              "    Column or index level names to join on in the right DataFrame. Can also\n",
              "    be an array or list of arrays of the length of the right DataFrame.\n",
              "    These arrays are treated as if they are columns.\n",
              "left_index : bool, default False\n",
              "    Use the index from the left DataFrame as the join key(s). If it is a\n",
              "    MultiIndex, the number of keys in the other DataFrame (either the index\n",
              "    or a number of columns) must match the number of levels.\n",
              "right_index : bool, default False\n",
              "    Use the index from the right DataFrame as the join key. Same caveats as\n",
              "    left_index.\n",
              "sort : bool, default False\n",
              "    Sort the join keys lexicographically in the result DataFrame. If False,\n",
              "    the order of the join keys depends on the join type (how keyword).\n",
              "suffixes : tuple of (str, str), default ('_x', '_y')\n",
              "    Suffix to apply to overlapping column names in the left and right\n",
              "    side, respectively. To raise an exception on overlapping columns use\n",
              "    (False, False).\n",
              "copy : bool, default True\n",
              "    If False, avoid copy if possible.\n",
              "indicator : bool or str, default False\n",
              "    If True, adds a column to output DataFrame called \"_merge\" with\n",
              "    information on the source of each row.\n",
              "    If string, column with information on source of each row will be added to\n",
              "    output DataFrame, and column will be named value of string.\n",
              "    Information column is Categorical-type and takes on a value of \"left_only\"\n",
              "    for observations whose merge key only appears in 'left' DataFrame,\n",
              "    \"right_only\" for observations whose merge key only appears in 'right'\n",
              "    DataFrame, and \"both\" if the observation's merge key is found in both.</p>\n",
              "<p>validate : str, optional\n",
              "    If specified, checks if merge is of specified type.</p>\n",
              "\n",
              "<pre><code>* \"one_to_one\" or \"1:1\": check if merge keys are unique in both\n",
              "  left and right datasets.\n",
              "* \"one_to_many\" or \"1:m\": check if merge keys are unique in left\n",
              "  dataset.\n",
              "* \"many_to_one\" or \"m:1\": check if merge keys are unique in right\n",
              "  dataset.\n",
              "* \"many_to_many\" or \"m:m\": allowed, but does not result in checks.\n",
              "\n",
              ".. versionadded:: 0.21.0\n",
              "\n",
              "</code></pre>\n",
              "<h2 id=\"Returns\">Returns<a class=\"anchor-link\" href=\"#Returns\">&#182;</a></h2><p>DataFrame\n",
              "    A DataFrame of the two merged objects.</p>\n",
              "<h2 id=\"See-Also\">See Also<a class=\"anchor-link\" href=\"#See-Also\">&#182;</a></h2><p>merge_ordered : Merge with optional filling/interpolation.\n",
              "merge_asof : Merge on nearest keys.\n",
              "DataFrame.join : Similar method using indices.</p>\n",
              "<h2 id=\"Notes\">Notes<a class=\"anchor-link\" href=\"#Notes\">&#182;</a></h2><p>Support for specifying index levels as the <code>on</code>, <code>left_on</code>, and\n",
              "<code>right_on</code> parameters was added in version 0.23.0\n",
              "Support for merging named Series objects was added in version 0.24.0</p>\n",
              "<h2 id=\"Examples\">Examples<a class=\"anchor-link\" href=\"#Examples\">&#182;</a></h2><blockquote><blockquote><blockquote><p>df1 = pd.DataFrame({'lkey': ['foo', 'bar', 'baz', 'foo'],\n",
              "...                     'value': [1, 2, 3, 5]})\n",
              "df2 = pd.DataFrame({'rkey': ['foo', 'bar', 'baz', 'foo'],\n",
              "...                     'value': [5, 6, 7, 8]})\n",
              "df1\n",
              "    lkey value\n",
              "0   foo      1\n",
              "1   bar      2\n",
              "2   baz      3\n",
              "3   foo      5\n",
              "df2\n",
              "    rkey value\n",
              "0   foo      5\n",
              "1   bar      6\n",
              "2   baz      7\n",
              "3   foo      8</p>\n",
              "</blockquote>\n",
              "</blockquote>\n",
              "</blockquote>\n",
              "<p>Merge df1 and df2 on the lkey and rkey columns. The value columns have\n",
              "the default suffixes, _x and _y, appended.</p>\n",
              "<blockquote><blockquote><blockquote><p>df1.merge(df2, left_on='lkey', right_on='rkey')\n",
              "  lkey  value_x rkey  value_y\n",
              "0  foo        1  foo        5\n",
              "1  foo        1  foo        8\n",
              "2  foo        5  foo        5\n",
              "3  foo        5  foo        8\n",
              "4  bar        2  bar        6\n",
              "5  baz        3  baz        7</p>\n",
              "</blockquote>\n",
              "</blockquote>\n",
              "</blockquote>\n",
              "<p>Merge DataFrames df1 and df2 with specified left and right suffixes\n",
              "appended to any overlapping columns.</p>\n",
              "<blockquote><blockquote><blockquote><p>df1.merge(df2, left_on='lkey', right_on='rkey',\n",
              "...           suffixes=('_left', '_right'))\n",
              "  lkey  value_left rkey  value_right\n",
              "0  foo           1  foo            5\n",
              "1  foo           1  foo            8\n",
              "2  foo           5  foo            5\n",
              "3  foo           5  foo            8\n",
              "4  bar           2  bar            6\n",
              "5  baz           3  baz            7</p>\n",
              "</blockquote>\n",
              "</blockquote>\n",
              "</blockquote>\n",
              "<p>Merge DataFrames df1 and df2, but raise an exception if the DataFrames have\n",
              "any overlapping columns.</p>\n",
              "<blockquote><blockquote><blockquote><p>df1.merge(df2, left_on='lkey', right_on='rkey', suffixes=(False, False))\n",
              "Traceback (most recent call last):\n",
              "...\n",
              "ValueError: columns overlap but no suffix specified:\n",
              "    Index(['value'], dtype='object')</p>\n",
              "</blockquote>\n",
              "</blockquote>\n",
              "</blockquote>\n"
            ],
            "text/plain": [
              "<IPython.core.display.HTML object>"
            ]
          },
          "metadata": {
            "tags": []
          }
        }
      ]
    },
    {
      "cell_type": "code",
      "metadata": {
        "id": "0yQe8eb-92dr",
        "colab_type": "code",
        "colab": {}
      },
      "source": [
        "rating_movie=pd.merge(ratings,movies,how='inner',on=['movie_id'])"
      ],
      "execution_count": 0,
      "outputs": []
    },
    {
      "cell_type": "code",
      "metadata": {
        "id": "vEG6R1hEDrTF",
        "colab_type": "code",
        "colab": {}
      },
      "source": [
        "rating_movie=rating_movie[['user_id','movie_id','rating','timestamp','title']]"
      ],
      "execution_count": 0,
      "outputs": []
    },
    {
      "cell_type": "code",
      "metadata": {
        "id": "P2p6ZfywF8Lu",
        "colab_type": "code",
        "outputId": "020f45cd-30a8-4389-a62a-37f640bf9518",
        "colab": {
          "base_uri": "https://localhost:8080/",
          "height": 202
        }
      },
      "source": [
        "rating_movie.head()"
      ],
      "execution_count": 0,
      "outputs": [
        {
          "output_type": "execute_result",
          "data": {
            "text/html": [
              "<div>\n",
              "<style scoped>\n",
              "    .dataframe tbody tr th:only-of-type {\n",
              "        vertical-align: middle;\n",
              "    }\n",
              "\n",
              "    .dataframe tbody tr th {\n",
              "        vertical-align: top;\n",
              "    }\n",
              "\n",
              "    .dataframe thead th {\n",
              "        text-align: right;\n",
              "    }\n",
              "</style>\n",
              "<table border=\"1\" class=\"dataframe\">\n",
              "  <thead>\n",
              "    <tr style=\"text-align: right;\">\n",
              "      <th></th>\n",
              "      <th>user_id</th>\n",
              "      <th>movie_id</th>\n",
              "      <th>rating</th>\n",
              "      <th>timestamp</th>\n",
              "      <th>title</th>\n",
              "    </tr>\n",
              "  </thead>\n",
              "  <tbody>\n",
              "    <tr>\n",
              "      <th>0</th>\n",
              "      <td>196</td>\n",
              "      <td>242</td>\n",
              "      <td>3</td>\n",
              "      <td>881250949</td>\n",
              "      <td>Kolya (1996)</td>\n",
              "    </tr>\n",
              "    <tr>\n",
              "      <th>1</th>\n",
              "      <td>63</td>\n",
              "      <td>242</td>\n",
              "      <td>3</td>\n",
              "      <td>875747190</td>\n",
              "      <td>Kolya (1996)</td>\n",
              "    </tr>\n",
              "    <tr>\n",
              "      <th>2</th>\n",
              "      <td>226</td>\n",
              "      <td>242</td>\n",
              "      <td>5</td>\n",
              "      <td>883888671</td>\n",
              "      <td>Kolya (1996)</td>\n",
              "    </tr>\n",
              "    <tr>\n",
              "      <th>3</th>\n",
              "      <td>154</td>\n",
              "      <td>242</td>\n",
              "      <td>3</td>\n",
              "      <td>879138235</td>\n",
              "      <td>Kolya (1996)</td>\n",
              "    </tr>\n",
              "    <tr>\n",
              "      <th>4</th>\n",
              "      <td>306</td>\n",
              "      <td>242</td>\n",
              "      <td>5</td>\n",
              "      <td>876503793</td>\n",
              "      <td>Kolya (1996)</td>\n",
              "    </tr>\n",
              "  </tbody>\n",
              "</table>\n",
              "</div>"
            ],
            "text/plain": [
              "   user_id  movie_id  rating  timestamp         title\n",
              "0      196       242       3  881250949  Kolya (1996)\n",
              "1       63       242       3  875747190  Kolya (1996)\n",
              "2      226       242       5  883888671  Kolya (1996)\n",
              "3      154       242       3  879138235  Kolya (1996)\n",
              "4      306       242       5  876503793  Kolya (1996)"
            ]
          },
          "metadata": {
            "tags": []
          },
          "execution_count": 12
        }
      ]
    },
    {
      "cell_type": "code",
      "metadata": {
        "id": "Mk2KKcVssZFi",
        "colab_type": "code",
        "colab": {}
      },
      "source": [
        "data=CollabDataBunch.from_df(rating_movie,seed=42,valid_pct=0.1,item_name='title')"
      ],
      "execution_count": 0,
      "outputs": []
    },
    {
      "cell_type": "code",
      "metadata": {
        "id": "KHVMnHD9sY-N",
        "colab_type": "code",
        "outputId": "6b4555c2-4754-4651-df68-a04081d1c3a2",
        "colab": {
          "base_uri": "https://localhost:8080/",
          "height": 202
        }
      },
      "source": [
        "data.show_batch()"
      ],
      "execution_count": 0,
      "outputs": [
        {
          "output_type": "display_data",
          "data": {
            "text/html": [
              "<table border=\"1\" class=\"dataframe\">\n",
              "  <thead>\n",
              "    <tr style=\"text-align: right;\">\n",
              "      <th>user_id</th>\n",
              "      <th>title</th>\n",
              "      <th>target</th>\n",
              "    </tr>\n",
              "  </thead>\n",
              "  <tbody>\n",
              "    <tr>\n",
              "      <td>868</td>\n",
              "      <td>Grease (1978)</td>\n",
              "      <td>2.0</td>\n",
              "    </tr>\n",
              "    <tr>\n",
              "      <td>618</td>\n",
              "      <td>GoldenEye (1995)</td>\n",
              "      <td>2.0</td>\n",
              "    </tr>\n",
              "    <tr>\n",
              "      <td>621</td>\n",
              "      <td>Rising Sun (1993)</td>\n",
              "      <td>4.0</td>\n",
              "    </tr>\n",
              "    <tr>\n",
              "      <td>699</td>\n",
              "      <td>Jaws (1975)</td>\n",
              "      <td>3.0</td>\n",
              "    </tr>\n",
              "    <tr>\n",
              "      <td>655</td>\n",
              "      <td>Foreign Student (1994)</td>\n",
              "      <td>2.0</td>\n",
              "    </tr>\n",
              "  </tbody>\n",
              "</table>"
            ],
            "text/plain": [
              "<IPython.core.display.HTML object>"
            ]
          },
          "metadata": {
            "tags": []
          }
        }
      ]
    },
    {
      "cell_type": "code",
      "metadata": {
        "id": "2AMdhTE8sY06",
        "colab_type": "code",
        "colab": {}
      },
      "source": [
        "lrn=collab_learner(data,y_range=[0.,5.5],wd=1e-1,n_factors=40)"
      ],
      "execution_count": 0,
      "outputs": []
    },
    {
      "cell_type": "code",
      "metadata": {
        "id": "igVTocRuGOUM",
        "colab_type": "code",
        "outputId": "ce9337ea-116a-4f6a-c36c-06ccfbdc346a",
        "colab": {
          "base_uri": "https://localhost:8080/",
          "height": 112
        }
      },
      "source": [
        "lrn.lr_find()"
      ],
      "execution_count": 0,
      "outputs": [
        {
          "output_type": "display_data",
          "data": {
            "text/html": [
              "\n",
              "    <div>\n",
              "        <style>\n",
              "            /* Turns off some styling */\n",
              "            progress {\n",
              "                /* gets rid of default border in Firefox and Opera. */\n",
              "                border: none;\n",
              "                /* Needs to be in here for Safari polyfill so background images work as expected. */\n",
              "                background-size: auto;\n",
              "            }\n",
              "            .progress-bar-interrupted, .progress-bar-interrupted::-webkit-progress-bar {\n",
              "                background: #F44336;\n",
              "            }\n",
              "        </style>\n",
              "      <progress value='0' class='' max='1' style='width:300px; height:20px; vertical-align: middle;'></progress>\n",
              "      0.00% [0/1 00:00<00:00]\n",
              "    </div>\n",
              "    \n",
              "<table border=\"1\" class=\"dataframe\">\n",
              "  <thead>\n",
              "    <tr style=\"text-align: left;\">\n",
              "      <th>epoch</th>\n",
              "      <th>train_loss</th>\n",
              "      <th>valid_loss</th>\n",
              "      <th>time</th>\n",
              "    </tr>\n",
              "  </thead>\n",
              "  <tbody>\n",
              "  </tbody>\n",
              "</table><p>\n",
              "\n",
              "    <div>\n",
              "        <style>\n",
              "            /* Turns off some styling */\n",
              "            progress {\n",
              "                /* gets rid of default border in Firefox and Opera. */\n",
              "                border: none;\n",
              "                /* Needs to be in here for Safari polyfill so background images work as expected. */\n",
              "                background-size: auto;\n",
              "            }\n",
              "            .progress-bar-interrupted, .progress-bar-interrupted::-webkit-progress-bar {\n",
              "                background: #F44336;\n",
              "            }\n",
              "        </style>\n",
              "      <progress value='74' class='' max='1406' style='width:300px; height:20px; vertical-align: middle;'></progress>\n",
              "      5.26% [74/1406 00:00<00:08 1.8589]\n",
              "    </div>\n",
              "    "
            ],
            "text/plain": [
              "<IPython.core.display.HTML object>"
            ]
          },
          "metadata": {
            "tags": []
          }
        },
        {
          "output_type": "stream",
          "text": [
            "LR Finder is complete, type {learner_name}.recorder.plot() to see the graph.\n"
          ],
          "name": "stdout"
        }
      ]
    },
    {
      "cell_type": "code",
      "metadata": {
        "id": "ISTEOYP7w0d9",
        "colab_type": "code",
        "outputId": "98289ed3-2c69-4aaa-f8f4-6de3769f1ba8",
        "colab": {
          "base_uri": "https://localhost:8080/",
          "height": 279
        }
      },
      "source": [
        "lrn.recorder.plot(skip_end=15)"
      ],
      "execution_count": 0,
      "outputs": [
        {
          "output_type": "display_data",
          "data": {
            "image/png": "[encoded data removed]",
            "text/plain": [
              "<Figure size 432x288 with 1 Axes>"
            ]
          },
          "metadata": {
            "tags": [],
            "needs_background": "light"
          }
        }
      ]
    },
    {
      "cell_type": "code",
      "metadata": {
        "id": "Ms9F_matw3WF",
        "colab_type": "code",
        "outputId": "b422233d-af93-4f4c-a9c9-06be870d2405",
        "colab": {
          "base_uri": "https://localhost:8080/",
          "height": 662
        }
      },
      "source": [
        "lrn.fit_one_cycle(20,3e-2)"
      ],
      "execution_count": 0,
      "outputs": [
        {
          "output_type": "display_data",
          "data": {
            "text/html": [
              "<table border=\"1\" class=\"dataframe\">\n",
              "  <thead>\n",
              "    <tr style=\"text-align: left;\">\n",
              "      <th>epoch</th>\n",
              "      <th>train_loss</th>\n",
              "      <th>valid_loss</th>\n",
              "      <th>time</th>\n",
              "    </tr>\n",
              "  </thead>\n",
              "  <tbody>\n",
              "    <tr>\n",
              "      <td>0</td>\n",
              "      <td>0.913476</td>\n",
              "      <td>0.918657</td>\n",
              "      <td>00:08</td>\n",
              "    </tr>\n",
              "    <tr>\n",
              "      <td>1</td>\n",
              "      <td>0.890225</td>\n",
              "      <td>0.908410</td>\n",
              "      <td>00:08</td>\n",
              "    </tr>\n",
              "    <tr>\n",
              "      <td>2</td>\n",
              "      <td>0.956188</td>\n",
              "      <td>0.963423</td>\n",
              "      <td>00:08</td>\n",
              "    </tr>\n",
              "    <tr>\n",
              "      <td>3</td>\n",
              "      <td>1.079521</td>\n",
              "      <td>1.092508</td>\n",
              "      <td>00:08</td>\n",
              "    </tr>\n",
              "    <tr>\n",
              "      <td>4</td>\n",
              "      <td>1.143665</td>\n",
              "      <td>1.192128</td>\n",
              "      <td>00:08</td>\n",
              "    </tr>\n",
              "    <tr>\n",
              "      <td>5</td>\n",
              "      <td>1.169136</td>\n",
              "      <td>1.201717</td>\n",
              "      <td>00:08</td>\n",
              "    </tr>\n",
              "    <tr>\n",
              "      <td>6</td>\n",
              "      <td>1.140853</td>\n",
              "      <td>1.206554</td>\n",
              "      <td>00:08</td>\n",
              "    </tr>\n",
              "    <tr>\n",
              "      <td>7</td>\n",
              "      <td>1.232485</td>\n",
              "      <td>1.197599</td>\n",
              "      <td>00:08</td>\n",
              "    </tr>\n",
              "    <tr>\n",
              "      <td>8</td>\n",
              "      <td>1.170150</td>\n",
              "      <td>1.184274</td>\n",
              "      <td>00:08</td>\n",
              "    </tr>\n",
              "    <tr>\n",
              "      <td>9</td>\n",
              "      <td>1.116317</td>\n",
              "      <td>1.133805</td>\n",
              "      <td>00:08</td>\n",
              "    </tr>\n",
              "    <tr>\n",
              "      <td>10</td>\n",
              "      <td>1.042508</td>\n",
              "      <td>1.088111</td>\n",
              "      <td>00:08</td>\n",
              "    </tr>\n",
              "    <tr>\n",
              "      <td>11</td>\n",
              "      <td>0.956410</td>\n",
              "      <td>1.028496</td>\n",
              "      <td>00:08</td>\n",
              "    </tr>\n",
              "    <tr>\n",
              "      <td>12</td>\n",
              "      <td>0.970565</td>\n",
              "      <td>0.974686</td>\n",
              "      <td>00:08</td>\n",
              "    </tr>\n",
              "    <tr>\n",
              "      <td>13</td>\n",
              "      <td>0.883602</td>\n",
              "      <td>0.935034</td>\n",
              "      <td>00:08</td>\n",
              "    </tr>\n",
              "    <tr>\n",
              "      <td>14</td>\n",
              "      <td>0.824101</td>\n",
              "      <td>0.888408</td>\n",
              "      <td>00:08</td>\n",
              "    </tr>\n",
              "    <tr>\n",
              "      <td>15</td>\n",
              "      <td>0.724408</td>\n",
              "      <td>0.851285</td>\n",
              "      <td>00:08</td>\n",
              "    </tr>\n",
              "    <tr>\n",
              "      <td>16</td>\n",
              "      <td>0.613477</td>\n",
              "      <td>0.839570</td>\n",
              "      <td>00:08</td>\n",
              "    </tr>\n",
              "    <tr>\n",
              "      <td>17</td>\n",
              "      <td>0.493365</td>\n",
              "      <td>0.842133</td>\n",
              "      <td>00:08</td>\n",
              "    </tr>\n",
              "    <tr>\n",
              "      <td>18</td>\n",
              "      <td>0.401929</td>\n",
              "      <td>0.843667</td>\n",
              "      <td>00:08</td>\n",
              "    </tr>\n",
              "    <tr>\n",
              "      <td>19</td>\n",
              "      <td>0.335220</td>\n",
              "      <td>0.844454</td>\n",
              "      <td>00:08</td>\n",
              "    </tr>\n",
              "  </tbody>\n",
              "</table>"
            ],
            "text/plain": [
              "<IPython.core.display.HTML object>"
            ]
          },
          "metadata": {
            "tags": []
          }
        }
      ]
    },
    {
      "cell_type": "code",
      "metadata": {
        "id": "l_XhI_2jxJ9V",
        "colab_type": "code",
        "outputId": "b368b54a-d8ac-43ba-c932-70acbaefb8b8",
        "colab": {
          "base_uri": "https://localhost:8080/",
          "height": 255
        }
      },
      "source": [
        "doc(collab_learner)"
      ],
      "execution_count": 2,
      "outputs": [
        {
          "output_type": "display_data",
          "data": {
            "text/html": [
              "<h4 id=\"collab_learner\" class=\"doc_header\"><code>collab_learner</code><a href=\"https://github.com/fastai/fastai/blob/master/fastai/collab.py#L96\" class=\"source_link\" style=\"float:right\">[source]</a><a class=\"source_link\" data-toggle=\"collapse\" data-target=\"#collab_learner-pytest\" style=\"float:right; padding-right:10px\">[test]</a></h4><blockquote><p><code>collab_learner</code>(<strong><code>data</code></strong>, <strong><code>n_factors</code></strong>:<code>int</code>=<strong><em><code>None</code></em></strong>, <strong><code>use_nn</code></strong>:<code>bool</code>=<strong><em><code>False</code></em></strong>, <strong><code>emb_szs</code></strong>:<code>Dict</code>[<code>str</code>, <code>int</code>]=<strong><em><code>None</code></em></strong>, <strong><code>layers</code></strong>:<code>Collection</code>[<code>int</code>]=<strong><em><code>None</code></em></strong>, <strong><code>ps</code></strong>:<code>Collection</code>[<code>float</code>]=<strong><em><code>None</code></em></strong>, <strong><code>emb_drop</code></strong>:<code>float</code>=<strong><em><code>0.0</code></em></strong>, <strong><code>y_range</code></strong>:<code>OptRange</code>=<strong><em><code>None</code></em></strong>, <strong><code>use_bn</code></strong>:<code>bool</code>=<strong><em><code>True</code></em></strong>, <strong><code>bn_final</code></strong>:<code>bool</code>=<strong><em><code>False</code></em></strong>, <strong>**<code>learn_kwargs</code></strong>) → <a href=\"https://docs.fast.ai/basic_train.html#Learner\"><code>Learner</code></a></p>\n",
              "</blockquote>\n",
              "<div class=\"collapse\" id=\"collab_learner-pytest\"><div class=\"card card-body pytest_card\"><a type=\"button\" data-toggle=\"collapse\" data-target=\"#collab_learner-pytest\" class=\"close\" aria-label=\"Close\"><span aria-hidden=\"true\">&times;</span></a><p>Tests found for <code>collab_learner</code>:</p><ul><li><code>pytest -sv tests/test_collab_train.py::test_val_loss</code> <a href=\"https://github.com/fastai/fastai/blob/master/tests/test_collab_train.py#L16\" class=\"source_link\" style=\"float:right\">[source]</a></li></ul><p>To run tests please refer to this <a href=\"/dev/test.html#quick-guide\">guide</a>.</p></div></div><p>Create a Learner for collaborative filtering on <code>data</code>.</p>\n",
              "<p><a href=\"https://docs.fast.ai/collab.html#collab_learner\" target=\"_blank\" rel=\"noreferrer noopener\">Show in docs</a></p>\n"
            ],
            "text/plain": [
              "<IPython.core.display.HTML object>"
            ]
          },
          "metadata": {
            "tags": []
          }
        }
      ]
    },
    {
      "cell_type": "code",
      "metadata": {
        "id": "py80s19T04pW",
        "colab_type": "code",
        "colab": {}
      },
      "source": [
        ""
      ],
      "execution_count": 0,
      "outputs": []
    }
  ]
}