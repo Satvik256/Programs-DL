{
  "nbformat": 4,
  "nbformat_minor": 0,
  "metadata": {
    "colab": {
      "name": "SGD_with_momentum_from_scratch.ipynb",
      "provenance": [],
      "collapsed_sections": [],
      "authorship_tag": "ABX9TyNb8yGJ+Tom9nq7XUaAZHUn",
      "include_colab_link": true
    },
    "kernelspec": {
      "name": "python3",
      "display_name": "Python 3"
    },
    "accelerator": "GPU"
  },
  "cells": [
    {
      "cell_type": "markdown",
      "metadata": {
        "id": "view-in-github",
        "colab_type": "text"
      },
      "source": [
        "<a href=\"https://colab.research.google.com/github/Satvik256/TestRepo/blob/master/SGD_with_momentum_from_scratch.ipynb\" target=\"_parent\"><img src=\"https://colab.research.google.com/assets/colab-badge.svg\" alt=\"Open In Colab\"/></a>"
      ]
    },
    {
      "cell_type": "code",
      "metadata": {
        "id": "3cjB7W8QI8Ba",
        "colab_type": "code",
        "colab": {}
      },
      "source": [
        "%matplotlib inline\n",
        "from fastai.basics import *\n",
        "from fastai.vision import *"
      ],
      "execution_count": 0,
      "outputs": []
    },
    {
      "cell_type": "code",
      "metadata": {
        "id": "z1GRFXrUI9CR",
        "colab_type": "code",
        "colab": {}
      },
      "source": [
        "with gzip.open('/content/mnist.pkl.gz', 'rb') as f:\n",
        "    ((x_train, y_train), (x_valid, y_valid), _) = pickle.load(f, encoding='latin-1')"
      ],
      "execution_count": 0,
      "outputs": []
    },
    {
      "cell_type": "code",
      "metadata": {
        "id": "neoHCzioKfcX",
        "colab_type": "code",
        "outputId": "6bb2de11-17ec-4ed9-a737-0a6ae5e1211b",
        "colab": {
          "base_uri": "https://localhost:8080/",
          "height": 283
        }
      },
      "source": [
        "plt.imshow(x_train[7].reshape(28,28),cmap='gray')"
      ],
      "execution_count": 5,
      "outputs": [
        {
          "output_type": "execute_result",
          "data": {
            "text/plain": [
              "<matplotlib.image.AxesImage at 0x7fca22e311d0>"
            ]
          },
          "metadata": {
            "tags": []
          },
          "execution_count": 5
        },
        {
          "output_type": "display_data",
          "data": {
            "image/png": "[encoded data removed]",
            "text/plain": [
              "<Figure size 432x288 with 1 Axes>"
            ]
          },
          "metadata": {
            "tags": [],
            "needs_background": "light"
          }
        }
      ]
    },
    {
      "cell_type": "code",
      "metadata": {
        "id": "Lc3P5idYOU8S",
        "colab_type": "code",
        "colab": {}
      },
      "source": [
        "x_train=torch.from_numpy(x_train)\n",
        "x_valid=torch.from_numpy(x_valid)\n",
        "y_train=torch.from_numpy(y_train)\n",
        "y_valid=torch.from_numpy(y_valid)"
      ],
      "execution_count": 0,
      "outputs": []
    },
    {
      "cell_type": "code",
      "metadata": {
        "id": "8_1y0WMtN_5L",
        "colab_type": "code",
        "colab": {}
      },
      "source": [
        "train_ds=TensorDataset(x_train,y_train)\n",
        "valid_ds=TensorDataset(x_valid,y_valid)"
      ],
      "execution_count": 0,
      "outputs": []
    },
    {
      "cell_type": "code",
      "metadata": {
        "id": "yHm94xcYNqJc",
        "colab_type": "code",
        "colab": {}
      },
      "source": [
        "data=DataBunch.create(train_ds,valid_ds,bs=64)"
      ],
      "execution_count": 0,
      "outputs": []
    },
    {
      "cell_type": "code",
      "metadata": {
        "id": "Sv9Ml0nyPFyT",
        "colab_type": "code",
        "colab": {}
      },
      "source": [
        "x,y=next(iter(data.train_dl))"
      ],
      "execution_count": 0,
      "outputs": []
    },
    {
      "cell_type": "code",
      "metadata": {
        "id": "g_hC-_0-P1zr",
        "colab_type": "code",
        "outputId": "accc0b94-7a76-4b03-ac60-38329a7e2a99",
        "colab": {
          "base_uri": "https://localhost:8080/",
          "height": 35
        }
      },
      "source": [
        "x.shape,y.shape"
      ],
      "execution_count": 10,
      "outputs": [
        {
          "output_type": "execute_result",
          "data": {
            "text/plain": [
              "(torch.Size([64, 784]), torch.Size([64]))"
            ]
          },
          "metadata": {
            "tags": []
          },
          "execution_count": 10
        }
      ]
    },
    {
      "cell_type": "code",
      "metadata": {
        "id": "vN7WIvNvKlko",
        "colab_type": "code",
        "colab": {}
      },
      "source": [
        "class mnist_nn(nn.Module):\n",
        "  def __init__(self):\n",
        "    super().__init__()\n",
        "    self.lin1=nn.Linear(784,60)\n",
        "    self.lin2=nn.Linear(60,10)\n",
        "  def forward(self,minibatch):\n",
        "    x=self.lin1(minibatch)    \n",
        "    F.relu_(x)\n",
        "    x=self.lin2(x)\n",
        "    # torch.sigmoid_(x)\n",
        "    return x"
      ],
      "execution_count": 0,
      "outputs": []
    },
    {
      "cell_type": "code",
      "metadata": {
        "id": "AuKH2epUMPFa",
        "colab_type": "code",
        "colab": {}
      },
      "source": [
        "model=mnist_nn().cuda()"
      ],
      "execution_count": 0,
      "outputs": []
    },
    {
      "cell_type": "code",
      "metadata": {
        "id": "zIt13IthTWJr",
        "colab_type": "code",
        "colab": {}
      },
      "source": [
        "loss_function=nn.CrossEntropyLoss()"
      ],
      "execution_count": 0,
      "outputs": []
    },
    {
      "cell_type": "code",
      "metadata": {
        "id": "3g3EhdBPQwdr",
        "colab_type": "code",
        "colab": {}
      },
      "source": [
        "def update(x,y,lr):\n",
        "  opt=optim.SGD(model.parameters(),lr,weight_decay=1e-5,momentum=0.9)\n",
        "  y_pred=model(x)\n",
        "  loss=loss_function(y_pred,y)\n",
        "  loss.backward()\n",
        "  opt.step()\n",
        "  opt.zero_grad()\n",
        "  return loss.item()"
      ],
      "execution_count": 0,
      "outputs": []
    },
    {
      "cell_type": "code",
      "metadata": {
        "id": "tWncX32YTupe",
        "colab_type": "code",
        "colab": {}
      },
      "source": [
        "loss_sgd=[update(x,y,4e-2) for x,y in data.train_dl]"
      ],
      "execution_count": 0,
      "outputs": []
    },
    {
      "cell_type": "code",
      "metadata": {
        "id": "LGNqkgM_VwyZ",
        "colab_type": "code",
        "outputId": "dbfd5cfc-7cee-4988-abef-259cb528cb2c",
        "colab": {
          "base_uri": "https://localhost:8080/",
          "height": 483
        }
      },
      "source": [
        "plt.figure(figsize=(8,8))\n",
        "plt.plot(loss_sgd);"
      ],
      "execution_count": 216,
      "outputs": [
        {
          "output_type": "display_data",
          "data": {
            "image/png": "[encoded data removed]",
            "text/plain": [
              "<Figure size 576x576 with 1 Axes>"
            ]
          },
          "metadata": {
            "tags": [],
            "needs_background": "light"
          }
        }
      ]
    },
    {
      "cell_type": "code",
      "metadata": {
        "id": "ZFynRZ6DWiXG",
        "colab_type": "code",
        "outputId": "d5836487-921a-4f1b-965f-e2661cf6baff",
        "colab": {
          "base_uri": "https://localhost:8080/",
          "height": 35
        }
      },
      "source": [
        "min(loss_sgd)"
      ],
      "execution_count": 217,
      "outputs": [
        {
          "output_type": "execute_result",
          "data": {
            "text/plain": [
              "0.16348299384117126"
            ]
          },
          "metadata": {
            "tags": []
          },
          "execution_count": 217
        }
      ]
    },
    {
      "cell_type": "code",
      "metadata": {
        "id": "_Mc1sik4XR7Z",
        "colab_type": "code",
        "colab": {}
      },
      "source": [
        "previous=[]"
      ],
      "execution_count": 0,
      "outputs": []
    },
    {
      "cell_type": "code",
      "metadata": {
        "id": "zK8ltehNfg3Q",
        "colab_type": "code",
        "colab": {}
      },
      "source": [
        "for p in model.parameters():\n",
        "  temp_tensor=torch.cuda.FloatTensor(p.shape).fill_(0)\n",
        "  previous.append(temp_tensor)"
      ],
      "execution_count": 0,
      "outputs": []
    },
    {
      "cell_type": "code",
      "metadata": {
        "id": "uwYavRZMOoan",
        "colab_type": "code",
        "colab": {}
      },
      "source": [
        "model=mnist_nn().cuda()"
      ],
      "execution_count": 0,
      "outputs": []
    },
    {
      "cell_type": "code",
      "metadata": {
        "id": "FeJ8Q3obYZR6",
        "colab_type": "code",
        "colab": {}
      },
      "source": [
        "def update_scratch(lr):\n",
        "  loss_list=[]\n",
        "  for a,b in data.train_dl:\n",
        "    x=a\n",
        "    y=b\n",
        "    wd=1e-5\n",
        "    y_pred=model(x)\n",
        "    w2=0\n",
        "    for p in model.parameters():w2+=(p**2).sum()\n",
        "    loss=loss_function(y_pred,y)+w2*wd\n",
        "    loss.backward()\n",
        "    with torch.no_grad():\n",
        "      i=0\n",
        "      for p in model.parameters():\n",
        "        p-=((lr*p.grad)*0.1)+(previous[i]*0.9)\n",
        "        previous_tmp=((lr*p.grad)*0.1)+(previous[i]*0.9)\n",
        "        previous[i]=previous_tmp\n",
        "        i+=1\n",
        "        p.grad.zero_()\n",
        "    loss_list.append(loss.item())\n",
        "  return loss_list  "
      ],
      "execution_count": 0,
      "outputs": []
    },
    {
      "cell_type": "code",
      "metadata": {
        "id": "GA0shwiCCpBs",
        "colab_type": "code",
        "colab": {}
      },
      "source": [
        "tmp=update_scratch(4e-2)"
      ],
      "execution_count": 0,
      "outputs": []
    },
    {
      "cell_type": "code",
      "metadata": {
        "id": "PxnPEOzUCxso",
        "colab_type": "code",
        "colab": {
          "base_uri": "https://localhost:8080/",
          "height": 501
        },
        "outputId": "9a0a94a2-655a-4a52-ed76-4789e259e35f"
      },
      "source": [
        "plt.figure(figsize=(8,8))\n",
        "plt.plot(tmp)"
      ],
      "execution_count": 211,
      "outputs": [
        {
          "output_type": "execute_result",
          "data": {
            "text/plain": [
              "[<matplotlib.lines.Line2D at 0x7fc9f4c66a58>]"
            ]
          },
          "metadata": {
            "tags": []
          },
          "execution_count": 211
        },
        {
          "output_type": "display_data",
          "data": {
            "image/png": "[encoded data removed]",
            "text/plain": [
              "<Figure size 576x576 with 1 Axes>"
            ]
          },
          "metadata": {
            "tags": [],
            "needs_background": "light"
          }
        }
      ]
    },
    {
      "cell_type": "code",
      "metadata": {
        "id": "N9niF6IuNiRy",
        "colab_type": "code",
        "colab": {
          "base_uri": "https://localhost:8080/",
          "height": 35
        },
        "outputId": "59e22f32-8063-4355-cd90-0eb0cadd956d"
      },
      "source": [
        "min(tmp)"
      ],
      "execution_count": 212,
      "outputs": [
        {
          "output_type": "execute_result",
          "data": {
            "text/plain": [
              "0.18441306054592133"
            ]
          },
          "metadata": {
            "tags": []
          },
          "execution_count": 212
        }
      ]
    },
    {
      "cell_type": "code",
      "metadata": {
        "id": "v-rTjJSKQ_jL",
        "colab_type": "code",
        "colab": {}
      },
      "source": [
        ""
      ],
      "execution_count": 0,
      "outputs": []
    }
  ]
}